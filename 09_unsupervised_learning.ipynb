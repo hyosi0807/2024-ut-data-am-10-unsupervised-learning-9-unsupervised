{
 "cells": [
  {
   "cell_type": "markdown",
   "metadata": {
    "id": "ptZQjdWyZlN4"
   },
   "source": [
    "**9장 – 비지도 학습**"
   ]
  },
  {
   "cell_type": "markdown",
   "metadata": {
    "id": "w-1EYJMNZlN7"
   },
   "source": [
    "_이 노트북에는 9장의 모든 샘플 코드와 연습 문제에 대한 솔루션이 포함되어 있습니다._"
   ]
  },
  {
   "cell_type": "markdown",
   "metadata": {
    "id": "sUwosMjzZlN7"
   },
   "source": [
    "<table align=\"left\">\n",
    "  <td>\n",
    "    <a href=\"https://colab.research.google.com/github/rickiepark/handson-ml3/blob/main/09_unsupervised_learning.ipynb\" target=\"_parent\"><img src=\"https://colab.research.google.com/assets/colab-badge.svg\" alt=\"Open In Colab\"/></a>\n",
    "  </td>\n",
    "</table>"
   ]
  },
  {
   "cell_type": "markdown",
   "metadata": {
    "id": "gNY8TzrjZlN7",
    "tags": []
   },
   "source": [
    "# 9.0 설정"
   ]
  },
  {
   "cell_type": "markdown",
   "metadata": {
    "id": "PK-OQtP9ZlN8"
   },
   "source": [
    "이 프로젝트에는 파이썬 3.7 이상이 필요합니다:"
   ]
  },
  {
   "cell_type": "code",
   "execution_count": null,
   "metadata": {
    "id": "K1ipDT5dZlN8"
   },
   "outputs": [],
   "source": [
    "import sys\n",
    "\n",
    "assert sys.version_info >= (3, 7)"
   ]
  },
  {
   "cell_type": "markdown",
   "metadata": {
    "id": "TmN-Ab40ZlN9"
   },
   "source": [
    "또한 사이킷런 ≥ 1.0.1이 필요합니다:"
   ]
  },
  {
   "cell_type": "code",
   "execution_count": 2,
   "metadata": {
    "id": "GDzQh2jgZlN9"
   },
   "outputs": [],
   "source": [
    "from packaging import version\n",
    "import sklearn\n",
    "\n",
    "assert version.parse(sklearn.__version__) >= version.parse(\"1.0.1\")"
   ]
  },
  {
   "cell_type": "markdown",
   "metadata": {
    "id": "IMzl2O3hZlN9"
   },
   "source": [
    "이전 챕터에서와 마찬가지로 기본 글꼴 크기를 정의하여 그림을 더 예쁘게 만들어 보겠습니다:"
   ]
  },
  {
   "cell_type": "code",
   "execution_count": null,
   "metadata": {
    "colab": {
     "base_uri": "https://localhost:8080/"
    },
    "id": "tkxBNdiXZlN-",
    "outputId": "403ecf4b-5dba-4b87-b6aa-c129f5a545a0"
   },
   "outputs": [],
   "source": [
    "import matplotlib.pyplot as plt\n",
    "\n",
    "plt.rc('font', size=14)\n",
    "plt.rc('axes', labelsize=14, titlesize=14)\n",
    "plt.rc('legend', fontsize=14)\n",
    "plt.rc('xtick', labelsize=10)\n",
    "plt.rc('ytick', labelsize=10)\n",
    "\n",
    "import sys\n",
    "# 코랩의 경우 나눔 폰트를 설치합니다.\n",
    "if 'google.colab' in sys.modules:\n",
    "    !sudo apt-get -qq -y install fonts-nanum\n",
    "    import matplotlib.font_manager as fm\n",
    "    font_files = fm.findSystemFonts(fontpaths=['/usr/share/fonts/truetype/nanum'])\n",
    "    for fpath in font_files:\n",
    "        fm.fontManager.addfont(fpath)\n",
    "\n",
    "# 나눔 폰트를 사용합니다.\n",
    "import matplotlib\n",
    "\n",
    "matplotlib.rc('font', family='NanumBarunGothic')\n",
    "matplotlib.rcParams['axes.unicode_minus'] = False"
   ]
  },
  {
   "cell_type": "markdown",
   "metadata": {
    "id": "sEYObRrSZlN-"
   },
   "source": [
    "그리고 아직 존재하지 않는 경우 `images/unsupervised_learning` 폴더를 만들고 이 노트북을 통해 책의 그림을 고해상도로 저장하는 데 사용되는 `save_fig()` 함수를 정의해 보겠습니다:"
   ]
  },
  {
   "cell_type": "code",
   "execution_count": 4,
   "metadata": {
    "id": "1KYuZsBZZlN-"
   },
   "outputs": [],
   "source": [
    "from pathlib import Path\n",
    "\n",
    "IMAGES_PATH = Path() / \"images\" / \"unsupervised_learning\"\n",
    "IMAGES_PATH.mkdir(parents=True, exist_ok=True)\n",
    "\n",
    "def save_fig(fig_id, tight_layout=True, fig_extension=\"png\", resolution=300):\n",
    "    path = IMAGES_PATH / f\"{fig_id}.{fig_extension}\"\n",
    "    if tight_layout:\n",
    "        plt.tight_layout()\n",
    "    plt.savefig(path, format=fig_extension, dpi=resolution)"
   ]
  },
  {
   "cell_type": "markdown",
   "metadata": {
    "id": "yAZ7Qy2XZlN-"
   },
   "source": [
    "# 9.1 군집"
   ]
  },
  {
   "cell_type": "markdown",
   "metadata": {
    "id": "3QeZ2S6ZZlN-"
   },
   "source": [
    "**소개 – 분류 _vs_ 군집**"
   ]
  },
  {
   "cell_type": "code",
   "execution_count": null,
   "metadata": {
    "colab": {
     "base_uri": "https://localhost:8080/",
     "height": 345
    },
    "id": "7b68i6ZSZlN-",
    "outputId": "dec54e45-8d67-488a-c7c1-8c5953a74392"
   },
   "outputs": [],
   "source": [
    "# 추가 코드 - 이 셀은 그림 9-1을 생성하고 저장합니다.\n",
    "\n",
    "import matplotlib.pyplot as plt\n",
    "from sklearn.datasets import load_iris\n",
    "\n",
    "data = load_iris()\n",
    "X = data.data\n",
    "y = data.target\n",
    "data.target_names\n",
    "\n",
    "plt.figure(figsize=(9, 3.5))\n",
    "\n",
    "plt.subplot(121)\n",
    "plt.plot(X[y==0, 2], X[y==0, 3], \"yo\", label=\"Iris setosa\")\n",
    "plt.plot(X[y==1, 2], X[y==1, 3], \"bs\", label=\"Iris versicolor\")\n",
    "plt.plot(X[y==2, 2], X[y==2, 3], \"g^\", label=\"Iris virginica\")\n",
    "plt.xlabel(\"꽃잎 길이\")\n",
    "plt.ylabel(\"꽃잎 너비\")\n",
    "plt.grid()\n",
    "plt.legend()\n",
    "\n",
    "plt.subplot(122)\n",
    "plt.scatter(X[:, 2], X[:, 3], c=\"k\", marker=\".\")\n",
    "plt.xlabel(\"꽃잎 길이\")\n",
    "plt.tick_params(labelleft=False)\n",
    "plt.gca().set_axisbelow(True)\n",
    "plt.grid()\n",
    "\n",
    "save_fig(\"classification_vs_clustering_plot\")\n",
    "plt.show()"
   ]
  },
  {
   "cell_type": "markdown",
   "metadata": {
    "id": "4Esoi_6TZlN_"
   },
   "source": [
    "**참고**: 다음 셀은 가우스 혼합 모델(이 장의 뒷부분에서 설명)이 꽃잎 길이와 너비, 꽃받침 길이와 너비의 네 가지 특징을 모두 사용하여 실제로 이러한 클러스터를 어떻게 잘 구분할 수 있는지 보여 줍니다. 이 코드는 각 클러스터를 클래스에 매핑합니다. 이 코드는 매핑을 하드 코딩하는 대신 `scipy.stats.mode()` 함수를 사용하여 각 클러스터에 대해 가장 일반적인 클래스를 선택합니다:"
   ]
  },
  {
   "cell_type": "code",
   "execution_count": null,
   "metadata": {
    "colab": {
     "base_uri": "https://localhost:8080/",
     "height": 455
    },
    "id": "hu4QfyhAZlN_",
    "outputId": "8a5e3c26-060d-4c87-e473-54e4cc3eec3a"
   },
   "outputs": [],
   "source": [
    "# 추가 코드\n",
    "\n",
    "import numpy as np\n",
    "from scipy import stats\n",
    "from sklearn.mixture import GaussianMixture\n",
    "\n",
    "y_pred = GaussianMixture(n_components=3, random_state=42).fit(X).predict(X)\n",
    "\n",
    "mapping = {}\n",
    "for class_id in np.unique(y):\n",
    "    # SciPy 1.11.0에서 `keepdims` 기본값이 False로 바뀐다는 경고를 피하기 위해 명시적으로 지정함\n",
    "    mode, _ = stats.mode(y_pred[y==class_id], keepdims=False)\n",
    "    mapping[mode] = int(class_id)\n",
    "\n",
    "y_pred = np.array([mapping[cluster_id] for cluster_id in y_pred])\n",
    "\n",
    "plt.plot(X[y_pred==0, 2], X[y_pred==0, 3], \"yo\", label=\"클러스터 1\")\n",
    "plt.plot(X[y_pred==1, 2], X[y_pred==1, 3], \"bs\", label=\"클러스터 2\")\n",
    "plt.plot(X[y_pred==2, 2], X[y_pred==2, 3], \"g^\", label=\"클러스터 3\")\n",
    "plt.xlabel(\"꽃잎 길이\")\n",
    "plt.ylabel(\"꽃잎 너비\")\n",
    "plt.legend(loc=\"upper left\")\n",
    "plt.grid()\n",
    "plt.show()"
   ]
  },
  {
   "cell_type": "markdown",
   "metadata": {
    "id": "wOMcA1lmZlN_"
   },
   "source": [
    "올바른 클러스터에 할당된 붓꽃의 비율은 얼마입니까?"
   ]
  },
  {
   "cell_type": "code",
   "execution_count": null,
   "metadata": {
    "colab": {
     "base_uri": "https://localhost:8080/"
    },
    "id": "jRuODETOZlOA",
    "outputId": "55d92ff2-6ff0-48e7-a9c5-e770d414f048"
   },
   "outputs": [],
   "source": [
    "(y_pred==y).sum() / len(y_pred)"
   ]
  },
  {
   "cell_type": "markdown",
   "metadata": {
    "id": "saXSvWxcZlOA"
   },
   "source": [
    "## 9.1.1 K-평균"
   ]
  },
  {
   "cell_type": "markdown",
   "metadata": {
    "id": "Ks26wjWQZlOA"
   },
   "source": [
    "**fit 그리고 predict**"
   ]
  },
  {
   "cell_type": "markdown",
   "metadata": {
    "id": "Eh3VxJmpZlOA"
   },
   "source": [
    "사이킷런 1.4 버전에서 `KMeans`의 `n_init` 매개변수 기본값이 10에서 `\"auto\"`로 바뀔 예정입니다. 이 노트북에서는 명시적으로 10으로 지정하여 사용합니다."
   ]
  },
  {
   "cell_type": "markdown",
   "metadata": {
    "id": "UvXK3pYOZlOA"
   },
   "source": [
    "블롭(blob)이 있는 데이터 세트에 대해 K-평균 클러스터러를 훈련해 보겠습니다. 이 클러스터러는 각 블롭의 중심을 찾아 가장 가까운 블롭에 각 인스턴스를 할당하려고 시도합니다:"
   ]
  },
  {
   "cell_type": "code",
   "execution_count": null,
   "metadata": {
    "id": "-uqhUTm1ZlOA"
   },
   "outputs": [],
   "source": [
    "from sklearn.cluster import KMeans\n",
    "from sklearn.datasets import make_blobs\n",
    "\n",
    "# 추가 코드 - make_blobs()의 정확한 인수는 중요하지 않습니다.\n",
    "blob_centers = np.array([[ 0.2,  2.3], [-1.5 ,  2.3], [-2.8,  1.8],\n",
    "                         [-2.8,  2.8], [-2.8,  1.3]])\n",
    "blob_std = np.array([0.4, 0.3, 0.1, 0.1, 0.1])\n",
    "X, y = make_blobs(n_samples=2000, centers=blob_centers, cluster_std=blob_std,\n",
    "                  random_state=7)\n",
    "\n",
    "#Slide 9\n",
    "k = 5\n",
    "KMeans = KMeans()"
   ]
  },
  {
   "cell_type": "markdown",
   "metadata": {
    "id": "NtOvjmngZlOA"
   },
   "source": [
    "이제 플로팅해 보겠습니다:"
   ]
  },
  {
   "cell_type": "code",
   "execution_count": null,
   "metadata": {
    "colab": {
     "base_uri": "https://localhost:8080/",
     "height": 395
    },
    "id": "MoGCUOmQZlOA",
    "outputId": "e57964dc-71db-4ab0-c0c3-262bbb5b4a44"
   },
   "outputs": [],
   "source": [
    "# 추가 코드 - 이 셀은 그림 9-2를 생성하고 저장합니다.\n",
    "\n",
    "def plot_clusters(X, y=None):\n",
    "    plt.scatter(X[:, 0], X[:, 1], c=y, s=1)\n",
    "    plt.xlabel(\"$x_1$\")\n",
    "    plt.ylabel(\"$x_2$\", rotation=0)\n",
    "\n",
    "plt.figure(figsize=(8, 4))\n",
    "plot_clusters(X)\n",
    "plt.gca().set_axisbelow(True)\n",
    "plt.grid()\n",
    "save_fig(\"blobs_plot\")\n",
    "plt.show()"
   ]
  },
  {
   "cell_type": "markdown",
   "metadata": {
    "id": "EpdS1GwSZlOB"
   },
   "source": [
    "각 샘플은 5개의 클러스터 중 하나에 할당되었습니다:"
   ]
  },
  {
   "cell_type": "code",
   "execution_count": 1,
   "metadata": {
    "colab": {
     "base_uri": "https://localhost:8080/"
    },
    "id": "4dgreI_rZlOB",
    "outputId": "7879882f-2eea-46c1-ba4b-8b9e4061a4e3"
   },
   "outputs": [
    {
     "ename": "NameError",
     "evalue": "name 'y_pred' is not defined",
     "output_type": "error",
     "traceback": [
      "\u001b[0;31m---------------------------------------------------------------------------\u001b[0m",
      "\u001b[0;31mNameError\u001b[0m                                 Traceback (most recent call last)",
      "Cell \u001b[0;32mIn[1], line 1\u001b[0m\n\u001b[0;32m----> 1\u001b[0m \u001b[43my_pred\u001b[49m\n",
      "\u001b[0;31mNameError\u001b[0m: name 'y_pred' is not defined"
     ]
    }
   ],
   "source": [
    "y_pred"
   ]
  },
  {
   "cell_type": "code",
   "execution_count": null,
   "metadata": {
    "colab": {
     "base_uri": "https://localhost:8080/"
    },
    "id": "VzXSnrGkZlOB",
    "outputId": "3b6d577c-8c0c-4cf4-e274-abd49d4552d5"
   },
   "outputs": [],
   "source": [
    "y_pred is kmeans.labels_"
   ]
  },
  {
   "cell_type": "markdown",
   "metadata": {
    "id": "c13-2GqmZlOB"
   },
   "source": [
    "그리고 다음과 같은 5개의 _센트로이드_(즉, 클러스터 중심)을 추정했습니다:"
   ]
  },
  {
   "cell_type": "code",
   "execution_count": null,
   "metadata": {
    "colab": {
     "base_uri": "https://localhost:8080/"
    },
    "id": "daMi9U0BZlOB",
    "outputId": "b77121c6-54c3-43a4-9e53-79451fb72504"
   },
   "outputs": [],
   "source": [
    "kmeans.cluster_centers_"
   ]
  },
  {
   "cell_type": "markdown",
   "metadata": {
    "id": "9gi-VUJjZlOB"
   },
   "source": [
    "`KMeans`의 객체는 훈련된 샘플의 레이블을 보존한다는 점에 유의하세요. 다소 혼란스러울 수 있지만, 이 맥락에서 샘플의 _레이블_ 은 샘플이 할당된 클러스터의 인덱스입니다(타깃이 아니라 예측입니다):"
   ]
  },
  {
   "cell_type": "code",
   "execution_count": null,
   "metadata": {
    "colab": {
     "base_uri": "https://localhost:8080/"
    },
    "id": "8lY92iWkZlOB",
    "outputId": "5d4c62d7-2bbe-4a24-aef2-927fceb9ba31"
   },
   "outputs": [],
   "source": [
    "kmeans.labels_"
   ]
  },
  {
   "cell_type": "markdown",
   "metadata": {
    "id": "x8KNp8GWZlOB"
   },
   "source": [
    "물론 새로운 샘플의 레이블을 예측할 수 있습니다:"
   ]
  },
  {
   "cell_type": "code",
   "execution_count": null,
   "metadata": {
    "colab": {
     "base_uri": "https://localhost:8080/"
    },
    "id": "EbAYrKt0ZlOB",
    "outputId": "bc26fd10-671f-45cb-ae12-88d12c135c5c"
   },
   "outputs": [],
   "source": [
    "import numpy as np\n",
    "\n",
    "X_new = np.array([[0, 2], [3, 2], [-3, 3], [-3, 2.5]])\n",
    "kmeans.predict(X_new)"
   ]
  },
  {
   "cell_type": "markdown",
   "metadata": {
    "id": "yHSXQwQMZlOC"
   },
   "source": [
    "**결정 경계**"
   ]
  },
  {
   "cell_type": "markdown",
   "metadata": {
    "id": "whbJ6jaqZlOC"
   },
   "source": [
    "모델의 결정 경계를 그려 보겠습니다. 이렇게 하면 _보로노이 다이어그램_이 생성됩니다:"
   ]
  },
  {
   "cell_type": "code",
   "execution_count": null,
   "metadata": {
    "colab": {
     "base_uri": "https://localhost:8080/",
     "height": 395
    },
    "id": "FkRu2-mpZlOC",
    "outputId": "6a22b13b-dd21-454c-b701-a70333bb9d98"
   },
   "outputs": [],
   "source": [
    "# 추가 코드 - 이 셀은 그림 9-3을 생성하고 저장합니다.\n",
    "\n",
    "def plot_data(X):\n",
    "    plt.plot(X[:, 0], X[:, 1], 'k.', markersize=2)\n",
    "\n",
    "def plot_centroids(centroids, weights=None, circle_color='w', cross_color='k'):\n",
    "    if weights is not None:\n",
    "        centroids = centroids[weights > weights.max() / 10]\n",
    "    plt.scatter(centroids[:, 0], centroids[:, 1],\n",
    "                marker='o', s=35, linewidths=8,\n",
    "                color=circle_color, zorder=10, alpha=0.9)\n",
    "    plt.scatter(centroids[:, 0], centroids[:, 1],\n",
    "                marker='x', s=2, linewidths=12,\n",
    "                color=cross_color, zorder=11, alpha=1)\n",
    "\n",
    "def plot_decision_boundaries(clusterer, X, resolution=1000, show_centroids=True,\n",
    "                             show_xlabels=True, show_ylabels=True):\n",
    "    mins = X.min(axis=0) - 0.1\n",
    "    maxs = X.max(axis=0) + 0.1\n",
    "    xx, yy = np.meshgrid(np.linspace(mins[0], maxs[0], resolution),\n",
    "                         np.linspace(mins[1], maxs[1], resolution))\n",
    "    Z = clusterer.predict(np.c_[xx.ravel(), yy.ravel()])\n",
    "    Z = Z.reshape(xx.shape)\n",
    "\n",
    "    plt.contourf(Z, extent=(mins[0], maxs[0], mins[1], maxs[1]),\n",
    "                cmap=\"Pastel2\")\n",
    "    plt.contour(Z, extent=(mins[0], maxs[0], mins[1], maxs[1]),\n",
    "                linewidths=1, colors='k')\n",
    "    plot_data(X)\n",
    "    if show_centroids:\n",
    "        plot_centroids(clusterer.cluster_centers_)\n",
    "\n",
    "    if show_xlabels:\n",
    "        plt.xlabel(\"$x_1$\")\n",
    "    else:\n",
    "        plt.tick_params(labelbottom=False)\n",
    "    if show_ylabels:\n",
    "        plt.ylabel(\"$x_2$\", rotation=0)\n",
    "    else:\n",
    "        plt.tick_params(labelleft=False)\n",
    "\n",
    "plt.figure(figsize=(8, 4))\n",
    "plot_decision_boundaries(kmeans, X)\n",
    "save_fig(\"voronoi_plot\")\n",
    "plt.show()"
   ]
  },
  {
   "cell_type": "markdown",
   "metadata": {
    "id": "5Jz_6DFZZlOC"
   },
   "source": [
    "나쁘지 않습니다! 가장자리 근처의 샘플 중 일부는 아마도 잘못된 클러스터에 할당되었을 수 있지만 전반적으로 꽤 괜찮아 보입니다."
   ]
  },
  {
   "cell_type": "markdown",
   "metadata": {
    "id": "5PAFhwZPZlOG"
   },
   "source": [
    "**하드 군집 _vs_ 소프트 군집**"
   ]
  },
  {
   "cell_type": "markdown",
   "metadata": {
    "id": "ZcUvGabxZlOG"
   },
   "source": [
    "_하드 클러스터링_은 각 샘플에 대해 가장 가까운 클러스터를 선택합니다. 이 대신 각 샘플과 5개의 중심까지의 거리를 측정하는 것이 더 나을 수 있습니다. 이것이 바로 `transform()` 메서드가 하는 일입니다:"
   ]
  },
  {
   "cell_type": "code",
   "execution_count": 2,
   "metadata": {
    "colab": {
     "base_uri": "https://localhost:8080/"
    },
    "id": "Bc5xtPOjZlOG",
    "outputId": "abdbee5a-7849-43ff-b95c-9dfd84ab79d6"
   },
   "outputs": [
    {
     "ename": "NameError",
     "evalue": "name 'kmeans' is not defined",
     "output_type": "error",
     "traceback": [
      "\u001b[0;31m---------------------------------------------------------------------------\u001b[0m",
      "\u001b[0;31mNameError\u001b[0m                                 Traceback (most recent call last)",
      "Cell \u001b[0;32mIn[2], line 1\u001b[0m\n\u001b[0;32m----> 1\u001b[0m \u001b[43mkmeans\u001b[49m\u001b[38;5;241m.\u001b[39mtransform(X_new)\u001b[38;5;241m.\u001b[39mround(\u001b[38;5;241m2\u001b[39m)\n",
      "\u001b[0;31mNameError\u001b[0m: name 'kmeans' is not defined"
     ]
    }
   ],
   "source": [
    "kmeans.transform(X_new).round(2)"
   ]
  },
  {
   "cell_type": "markdown",
   "metadata": {
    "id": "_S_mm_31ZlOG"
   },
   "source": [
    "이것이 실제로 각 샘플과 각 중심 사이의 유클리드 거리임을 확인할 수 있습니다:"
   ]
  },
  {
   "cell_type": "code",
   "execution_count": null,
   "metadata": {
    "colab": {
     "base_uri": "https://localhost:8080/"
    },
    "id": "VV9jS-ehZlOG",
    "outputId": "dae52ad6-ecd1-42d1-e44e-4992b572a4af"
   },
   "outputs": [],
   "source": [
    "# 추가 코드\n",
    "np.linalg.norm(np.tile(X_new, (1, k)).reshape(-1, k, 2)\n",
    "               - kmeans.cluster_centers_, axis=2).round(2)"
   ]
  },
  {
   "cell_type": "markdown",
   "metadata": {
    "id": "urYJg6aWZlOG"
   },
   "source": [
    "### K-평균 알고리즘"
   ]
  },
  {
   "cell_type": "markdown",
   "metadata": {
    "id": "fH-V0veOZlOH"
   },
   "source": [
    "K-평균 알고리즘은 가장 빠른 클러스터링 알고리즘 중 하나이며 가장 간단한 알고리즘이기도 합니다:\n",
    "* 먼저 $k$개의 중심을 무작위로 초기화합니다. 예를 들어, 데이터 세트에서 $k$개의 샘플을 무작위로 선택하고 해당 위치에 센트로이드를 할당합니다.\n",
    "* 수렴할 때까지(즉, 중심이 움직이지 않을 때까지) 반복합니다:\n",
    "    * 각 인스턴스를 가장 가까운 센트로이드에 할당합니다.\n",
    "    * 할당된 샘플의 평균이 되도록 센트로이드를 업데이트합니다."
   ]
  },
  {
   "cell_type": "markdown",
   "metadata": {
    "id": "MeYuGP9nZlOH"
   },
   "source": [
    "`K-Means` 클래스는 기본적으로 최적화된 초기화 기법을 사용합니다. 원래의 K-Means 알고리즘(교육용으로만 사용)을 사용하려면 `init=\"random\"` 및 `n_init=1`을 설정해야 합니다. 이에 대해서는 이 장의 뒷부분에서 자세히 설명합니다."
   ]
  },
  {
   "cell_type": "markdown",
   "metadata": {
    "id": "Y-QfZ7EJZlOH"
   },
   "source": [
    "K-평균 알고리즘을 1, 2, 3회 반복하여 센트로이드가 어떻게 움직이는지 확인해 보겠습니다:"
   ]
  },
  {
   "cell_type": "code",
   "execution_count": null,
   "metadata": {
    "colab": {
     "base_uri": "https://localhost:8080/",
     "height": 795
    },
    "id": "LjKm_4UZZlOH",
    "outputId": "cfb4ac44-acd0-40f3-fc50-d79279ce7de9"
   },
   "outputs": [],
   "source": [
    "# 추가 코드 - 이 셀은 그림 9-4를 생성하고 저장합니다.\n",
    "\n",
    "kmeans_iter1 = KMeans(n_clusters=5, init=\"random\", n_init=1, max_iter=1,\n",
    "                      random_state=5)\n",
    "kmeans_iter2 = KMeans(n_clusters=5, init=\"random\", n_init=1, max_iter=2,\n",
    "                      random_state=5)\n",
    "kmeans_iter3 = KMeans(n_clusters=5, init=\"random\", n_init=1, max_iter=3,\n",
    "                      random_state=5)\n",
    "kmeans_iter1.fit(X)\n",
    "kmeans_iter2.fit(X)\n",
    "kmeans_iter3.fit(X)\n",
    "\n",
    "plt.figure(figsize=(10, 8))\n",
    "\n",
    "plt.subplot(321)\n",
    "plot_data(X)\n",
    "plot_centroids(kmeans_iter1.cluster_centers_, circle_color='r', cross_color='w')\n",
    "plt.ylabel(\"$x_2$\", rotation=0)\n",
    "plt.tick_params(labelbottom=False)\n",
    "plt.title(\"센트로이드 업데이트 (랜덤하게 초기화)\")\n",
    "\n",
    "plt.subplot(322)\n",
    "plot_decision_boundaries(kmeans_iter1, X, show_xlabels=False,\n",
    "                         show_ylabels=False)\n",
    "plt.title(\"샘플에 레이블 할당\")\n",
    "\n",
    "plt.subplot(323)\n",
    "plot_decision_boundaries(kmeans_iter1, X, show_centroids=False,\n",
    "                         show_xlabels=False)\n",
    "plot_centroids(kmeans_iter2.cluster_centers_)\n",
    "\n",
    "plt.subplot(324)\n",
    "plot_decision_boundaries(kmeans_iter2, X, show_xlabels=False,\n",
    "                         show_ylabels=False)\n",
    "\n",
    "plt.subplot(325)\n",
    "plot_decision_boundaries(kmeans_iter2, X, show_centroids=False)\n",
    "plot_centroids(kmeans_iter3.cluster_centers_)\n",
    "\n",
    "plt.subplot(326)\n",
    "plot_decision_boundaries(kmeans_iter3, X, show_ylabels=False)\n",
    "\n",
    "save_fig(\"kmeans_algorithm_plot\")\n",
    "plt.show()"
   ]
  },
  {
   "cell_type": "markdown",
   "metadata": {
    "id": "1lSICNoBZlOH"
   },
   "source": [
    "**K-평균 가변성**"
   ]
  },
  {
   "cell_type": "markdown",
   "metadata": {
    "id": "wMMuO4vaZlOH"
   },
   "source": [
    "원래 K-평균 알고리즘에서는 센트로이드가 무작위로 초기화되고 알고리즘은 위에서 살펴본 것처럼 단일 반복을 실행하여 센트로이드를 점진적으로 개선하기만 하면 됩니다.\n",
    "\n",
    "그러나 이 접근 방식의 한 가지 주요 문제점은 아래에서 볼 수 있듯이 K-Means를 여러 번(또는 다른 무작위 시드를 사용하여) 실행하면 매우 다른 솔루션으로 수렴할 수 있다는 점입니다:"
   ]
  },
  {
   "cell_type": "code",
   "execution_count": null,
   "metadata": {
    "colab": {
     "base_uri": "https://localhost:8080/",
     "height": 315
    },
    "id": "S7zS7rZqZlOH",
    "outputId": "5f42d920-68cc-47cd-f21d-e96b5f05ad06"
   },
   "outputs": [],
   "source": [
    "# 추가 코드 - 이 셀은 그림 9-5를 생성하고 저장합니다.\n",
    "\n",
    "def plot_clusterer_comparison(clusterer1, clusterer2, X, title1=None,\n",
    "                              title2=None):\n",
    "    clusterer1.fit(X)\n",
    "    clusterer2.fit(X)\n",
    "\n",
    "    plt.figure(figsize=(10, 3.2))\n",
    "\n",
    "    plt.subplot(121)\n",
    "    plot_decision_boundaries(clusterer1, X)\n",
    "    if title1:\n",
    "        plt.title(title1)\n",
    "\n",
    "    plt.subplot(122)\n",
    "    plot_decision_boundaries(clusterer2, X, show_ylabels=False)\n",
    "    if title2:\n",
    "        plt.title(title2)\n",
    "\n",
    "kmeans_rnd_init1 = KMeans(n_clusters=5, init=\"random\", n_init=1, random_state=2)\n",
    "kmeans_rnd_init2 = KMeans(n_clusters=5, init=\"random\", n_init=1, random_state=9)\n",
    "\n",
    "plot_clusterer_comparison(kmeans_rnd_init1, kmeans_rnd_init2, X,\n",
    "                          \"솔루션 1\",\n",
    "                          \"솔루션 2 (다른 랜덤한 초기화)\")\n",
    "\n",
    "save_fig(\"kmeans_variability_plot\")\n",
    "plt.show()"
   ]
  },
  {
   "cell_type": "code",
   "execution_count": null,
   "metadata": {
    "colab": {
     "base_uri": "https://localhost:8080/",
     "height": 162
    },
    "id": "8VOIuTwLZlOH",
    "outputId": "c9eee0ea-928c-45a7-a773-6d4de4c030ad"
   },
   "outputs": [],
   "source": [
    "good_init = np.array([[-3, 3], [-3, 2], [-3, 1], [-1, 2], [0, 2]])\n",
    "kmeans = KMeans(n_clusters=5, init=good_init, n_init=1, random_state=42)\n",
    "kmeans.fit(X)"
   ]
  },
  {
   "cell_type": "code",
   "execution_count": null,
   "metadata": {
    "colab": {
     "base_uri": "https://localhost:8080/",
     "height": 394
    },
    "id": "3CVSmXypZlOI",
    "outputId": "700e45d5-58ca-4ae5-b049-f6c83c676498"
   },
   "outputs": [],
   "source": [
    "# 추가 코드\n",
    "plt.figure(figsize=(8, 4))\n",
    "plot_decision_boundaries(kmeans, X)"
   ]
  },
  {
   "cell_type": "markdown",
   "metadata": {
    "id": "JvUlOvOaZlOI"
   },
   "source": [
    "### 이너셔"
   ]
  },
  {
   "cell_type": "markdown",
   "metadata": {
    "id": "rVDwUA-7ZlOI"
   },
   "source": [
    "최적의 모델을 선택하려면 K-평균 모델의 성능을 평가할 수 있는 방법이 필요합니다. 안타깝게도 군집은 비지도 학습이기 때문에 타깃이 없습니다. 하지만 적어도 각 샘플과 그 센트로이드 사이의 거리는 측정할 수 있습니다. 이것이 바로 _관성_ 지표의 기본 개념입니다:"
   ]
  },
  {
   "cell_type": "code",
   "execution_count": 3,
   "metadata": {
    "colab": {
     "base_uri": "https://localhost:8080/"
    },
    "id": "EV9GW-XzZlOI",
    "outputId": "cabe55d7-2b36-4d37-c2af-aafe097b2bc2"
   },
   "outputs": [
    {
     "ename": "NameError",
     "evalue": "name 'kmeans' is not defined",
     "output_type": "error",
     "traceback": [
      "\u001b[0;31m---------------------------------------------------------------------------\u001b[0m",
      "\u001b[0;31mNameError\u001b[0m                                 Traceback (most recent call last)",
      "Cell \u001b[0;32mIn[3], line 1\u001b[0m\n\u001b[0;32m----> 1\u001b[0m \u001b[43mkmeans\u001b[49m\u001b[38;5;241m.\u001b[39minertia_\n",
      "\u001b[0;31mNameError\u001b[0m: name 'kmeans' is not defined"
     ]
    }
   ],
   "source": [
    "kmeans.inertia_"
   ]
  },
  {
   "cell_type": "code",
   "execution_count": null,
   "metadata": {
    "colab": {
     "base_uri": "https://localhost:8080/"
    },
    "id": "KmZFER37ZlOI",
    "outputId": "2e0b1ef0-dbea-48e3-8014-fdaa0a52a9ad"
   },
   "outputs": [],
   "source": [
    "kmeans_rnd_init1.inertia_  # 추가 코드"
   ]
  },
  {
   "cell_type": "code",
   "execution_count": null,
   "metadata": {
    "colab": {
     "base_uri": "https://localhost:8080/"
    },
    "id": "K7lFyNa_ZlOI",
    "outputId": "6c412ed9-5394-4bc1-db0c-d485d516dc9a"
   },
   "outputs": [],
   "source": [
    "kmeans_rnd_init2.inertia_  # 추가 코드"
   ]
  },
  {
   "cell_type": "markdown",
   "metadata": {
    "id": "zXeJG37ZZlOJ"
   },
   "source": [
    "쉽게 확인할 수 있듯이 관성은 각 훈련 샘플과 가장 가까운 센트로이드 사이의 제곱 거리의 합입니다:"
   ]
  },
  {
   "cell_type": "code",
   "execution_count": null,
   "metadata": {
    "colab": {
     "base_uri": "https://localhost:8080/"
    },
    "id": "kg6xsYdSZlOJ",
    "outputId": "82b36357-cb7e-469c-d90c-3b117b6b4dc7"
   },
   "outputs": [],
   "source": [
    "# 추가 코드\n",
    "X_dist = kmeans.transform(X)\n",
    "(X_dist[np.arange(len(X_dist)), kmeans.labels_] ** 2).sum()"
   ]
  },
  {
   "cell_type": "markdown",
   "metadata": {
    "id": "ikqoREvTZlOJ"
   },
   "source": [
    "`score()` 메서드는 음의 이너셔를 반환합니다. 왜 음수일까요? 예측기의 `score()` 메서드는 항상 \"_크면 클수록 좋다_\"는 규칙을 준수해야 하기 때문입니다."
   ]
  },
  {
   "cell_type": "code",
   "execution_count": null,
   "metadata": {
    "colab": {
     "base_uri": "https://localhost:8080/"
    },
    "id": "KPcvvyLJZlOJ",
    "outputId": "83140c29-9e57-474a-c6f0-9eaaea31b341"
   },
   "outputs": [],
   "source": [
    "kmeans.score(X)"
   ]
  },
  {
   "cell_type": "markdown",
   "metadata": {
    "id": "WTGRb84TZlOJ"
   },
   "source": [
    "### 다중 초기화"
   ]
  },
  {
   "cell_type": "markdown",
   "metadata": {
    "id": "1MfkhA1cZlOJ"
   },
   "source": [
    "따라서 가변성 문제를 해결하기 위한 한 가지 접근 방식은 다양한 무작위 초기화를 사용하여 K-평균 알고리즘을 여러 번 실행하고 이너셔를 최소화하는 솔루션을 선택하는 것입니다."
   ]
  },
  {
   "cell_type": "markdown",
   "metadata": {
    "id": "6gJlOT_zZlOJ"
   },
   "source": [
    "`n_init` 하이퍼파라미터를 설정하면 Scikit-Learn은 원래 알고리즘인 `n_init`을 여러 번 실행하여 이너셔를 최소화하는 솔루션을 선택합니다. 기본적으로 Scikit-Learn은 `n_init=10`으로 설정되어 있습니다."
   ]
  },
  {
   "cell_type": "code",
   "execution_count": null,
   "metadata": {
    "colab": {
     "base_uri": "https://localhost:8080/",
     "height": 75
    },
    "id": "e410pJo0ZlOJ",
    "outputId": "f2770ff3-e195-4742-8fe3-18c0e8c02f5a"
   },
   "outputs": [],
   "source": [
    "# 추가 코드\n",
    "kmeans_rnd_10_inits = KMeans(n_clusters=5, init=\"random\", n_init=10,\n",
    "                             random_state=2)\n",
    "kmeans_rnd_10_inits.fit(X)"
   ]
  },
  {
   "cell_type": "markdown",
   "metadata": {
    "id": "IAaExVcGZlOJ"
   },
   "source": [
    "다음에 보듯이 최적의 K-평균 솔루션에 해당하는 초기 모델을 얻었습니다(적어도 관성 측면에서, 그리고 $k=5$라고 가정할 때)."
   ]
  },
  {
   "cell_type": "code",
   "execution_count": null,
   "metadata": {
    "colab": {
     "base_uri": "https://localhost:8080/",
     "height": 394
    },
    "id": "h7EtYupiZlOJ",
    "outputId": "7f05bd18-dc65-4ca5-edac-a8fd47395f70"
   },
   "outputs": [],
   "source": [
    "# 추가 코드\n",
    "plt.figure(figsize=(8, 4))\n",
    "plot_decision_boundaries(kmeans_rnd_10_inits, X)\n",
    "plt.show()"
   ]
  },
  {
   "cell_type": "code",
   "execution_count": null,
   "metadata": {
    "colab": {
     "base_uri": "https://localhost:8080/"
    },
    "id": "4TAcrLCoZlOK",
    "outputId": "d8b9c90d-b2ae-454f-d79e-e252c99ae245"
   },
   "outputs": [],
   "source": [
    "kmeans_rnd_10_inits.inertia_"
   ]
  },
  {
   "cell_type": "markdown",
   "metadata": {
    "id": "US5QBu67ZlOK"
   },
   "source": [
    "### 센트로이드 초기화 방법"
   ]
  },
  {
   "cell_type": "markdown",
   "metadata": {
    "id": "oiPtLDmnZlOK"
   },
   "source": [
    "센트로이드를 완전히 무작위로 초기화하는 대신 데이비드 아서와 세르게이 바실비츠키가 [2006년 논문](https://goo.gl/eNUPw6)에서 제안한 다음 알고리즘을 사용하여 초기화하는 것이 바람직합니다:\n",
    "* 데이터셋에서 무작위로 균일하게 하나의 센트로이드를 $c_1$을 선택합니다.\n",
    "* $D(\\mathbf{x}_i)^2$ / $\\sum\\limits_{j=1}^{m}{D(\\mathbf{x}_j)}^2$ 확률로 샘플 $\\mathbf{x}_i$를 새로운 센트로이드 $c_i$으로 선택합니다. $D(\\mathbf{x}_i)$ 는 인스턴스 $\\mathbf{x}_i$ 와 이미 선택된 가장 가까운 센트로이드 사이의 거리입니다. 이 확률 분포는 이미 선택된 센트로이드로부터 멀리 떨어진 샘플이 센트로이드로 선택될 확률을 훨씬 더 높입니다.\n",
    "* 모든 $k$개 센트로이드가 선택될 때까지 이전 단계를 반복합니다."
   ]
  },
  {
   "cell_type": "markdown",
   "metadata": {
    "id": "rA-pSzLVZlOK"
   },
   "source": [
    "나머지 K-평균++ 알고리즘은 일반 K-평균과 같습니다. 이 초기화를 사용하면 K-평균 알고리즘이 최적이 아닌 솔루션으로 수렴할 가능성이 훨씬 낮아지므로 `n_init`을 상당히 줄일 수 있습니다. 대부분의 경우 초기화 프로세스의 추가 복잡성을 크게 보완할 수 있습니다."
   ]
  },
  {
   "cell_type": "markdown",
   "metadata": {
    "id": "0ZQLZqVrZlOK"
   },
   "source": [
    "초기화를 K-Means++로 설정하려면 `init=\"k-means++\"`를 설정하기만 하면 됩니다(실제로는 이것이 기본값입니다):"
   ]
  },
  {
   "cell_type": "markdown",
   "metadata": {
    "id": "MAhnNJdjZlOK"
   },
   "source": [
    "### 가속화된 K-평균"
   ]
  },
  {
   "cell_type": "markdown",
   "metadata": {
    "id": "9XvMUHrjZlOK"
   },
   "source": [
    "K-Means 알고리즘은 불필요한 거리 계산을 많이 피함으로써 때때로 속도를 높일 수 있습니다: 이는 삼각형 부등식(세 점 A, B, C가 주어졌을 때 거리 AC는 항상 AC ≤ AB + BC)을 활용하고 인스턴스와 센트로이드 사이의 거리에 대한 하한과 상한을 추적함으로써 달성됩니다(자세한 내용은 Charles Elkan의 [2003 논문](https://www.aaai.org/Papers/ICML/2003/ICML03-022.pdf)을 참조하세요)."
   ]
  },
  {
   "cell_type": "markdown",
   "metadata": {
    "id": "7k2c8ltqZlOK"
   },
   "source": [
    "엘칸 방식의 K-평균을 사용하려면 `algorithm=\"elkan\"`을 사용합니다. 일반 K-평균의 경우 `algorithm=\"full\"`을 사용합니다. 기본값은 `\"auto\"`로, Scikit-Learn 1.1부터 `full` 알고리즘을 사용합니다(그 이전에는 엘칸 알고리즘을 사용함)."
   ]
  },
  {
   "cell_type": "markdown",
   "metadata": {
    "id": "lbN7KZl8ZlOK"
   },
   "source": [
    "### 미니 배치 K-평균"
   ]
  },
  {
   "cell_type": "markdown",
   "metadata": {
    "id": "xneB0oQvZlOL"
   },
   "source": [
    "사이킷런 1.4 버전에서 `MiniBatchKMeans`의 `n_init` 매개변수 기본값이 3에서 `\"auto\"`로 바뀔 예정입니다. 이 노트북에서는 명시적으로 3으로 지정하여 사용합니다."
   ]
  },
  {
   "cell_type": "markdown",
   "metadata": {
    "id": "LwSSefiNZlOL"
   },
   "source": [
    "Scikit-Learn은 미니 배치를 지원하는 K-Means 알고리즘의 변형도 제공합니다([이 논문](http://www.eecs.tufts.edu/~dsculley/papers/fastkmeans.pdf) 참조):"
   ]
  },
  {
   "cell_type": "code",
   "execution_count": null,
   "metadata": {
    "colab": {
     "base_uri": "https://localhost:8080/",
     "height": 75
    },
    "id": "J4P1mcLgZlOL",
    "outputId": "83d56a42-44a8-477e-d8e0-8b6c73def60e"
   },
   "outputs": [],
   "source": [
    "from sklearn.cluster import MiniBatchKMeans\n",
    "\n",
    "# ..."
   ]
  },
  {
   "cell_type": "code",
   "execution_count": null,
   "metadata": {
    "colab": {
     "base_uri": "https://localhost:8080/"
    },
    "id": "fGPeiFvGZlOL",
    "outputId": "8c8869ad-6b84-4916-c295-c482d0153b76"
   },
   "outputs": [],
   "source": [
    "minibatch_kmeans.inertia_"
   ]
  },
  {
   "cell_type": "markdown",
   "metadata": {
    "id": "2aDt3XiwZlOL"
   },
   "source": [
    "**`memmap`과 함께 `MiniBatchKMeans` 사용하기** (책에 없음)"
   ]
  },
  {
   "cell_type": "markdown",
   "metadata": {
    "id": "U9UHnFJbZlOL"
   },
   "source": [
    "데이터셋이 메모리에 맞지 않는 경우 가장 간단한 옵션은 이전 장에서 점진적 PCA에서 했던 것처럼 `memmap` 클래스를 사용하는 것입니다. 먼저 MNIST를 로드해 보겠습니다:"
   ]
  },
  {
   "cell_type": "code",
   "execution_count": 39,
   "metadata": {
    "id": "eIx6HSKQZlOL"
   },
   "outputs": [],
   "source": [
    "from sklearn.datasets import fetch_openml\n",
    "\n",
    "mnist = fetch_openml('mnist_784', as_frame=False, parser=\"auto\")"
   ]
  },
  {
   "cell_type": "markdown",
   "metadata": {
    "id": "plDgxJqCZlOL"
   },
   "source": [
    "데이터셋을 분할해 보겠습니다:"
   ]
  },
  {
   "cell_type": "code",
   "execution_count": 40,
   "metadata": {
    "id": "Ed5i7Gm9ZlOL"
   },
   "outputs": [],
   "source": [
    "X_train, y_train = mnist.data[:60000], mnist.target[:60000]\n",
    "X_test, y_test = mnist.data[60000:], mnist.target[60000:]"
   ]
  },
  {
   "cell_type": "markdown",
   "metadata": {
    "id": "EpJUhDrfZlOM"
   },
   "source": [
    "다음으로 훈련 세트를 `memmap`에 저장해 보겠습니다:"
   ]
  },
  {
   "cell_type": "code",
   "execution_count": 41,
   "metadata": {
    "id": "P9r71zqSZlOM"
   },
   "outputs": [],
   "source": [
    "filename = \"my_mnist.mmap\"\n",
    "X_memmap = np.memmap(filename, dtype='float32', mode='write',\n",
    "                     shape=X_train.shape)\n",
    "X_memmap[:] = X_train\n",
    "X_memmap.flush()"
   ]
  },
  {
   "cell_type": "code",
   "execution_count": null,
   "metadata": {
    "colab": {
     "base_uri": "https://localhost:8080/",
     "height": 75
    },
    "id": "DtvkYLwyZlOM",
    "outputId": "aac4a23b-dade-4a5d-b232-f44484549883"
   },
   "outputs": [],
   "source": [
    "from sklearn.cluster import MiniBatchKMeans\n",
    "\n",
    "minibatch_kmeans = MiniBatchKMeans(n_clusters=10, batch_size=10,\n",
    "                                   n_init=3, random_state=42)\n",
    "minibatch_kmeans.fit(X_memmap)"
   ]
  },
  {
   "cell_type": "markdown",
   "metadata": {
    "id": "ZKJdObi8ZlOM"
   },
   "source": [
    "미니 배치 K-평균과 일반 K-평균 간의 이너셔 비율과 훈련 시간 비율을 플롯해 보겠습니다:"
   ]
  },
  {
   "cell_type": "code",
   "execution_count": null,
   "metadata": {
    "colab": {
     "base_uri": "https://localhost:8080/",
     "height": 413
    },
    "id": "A8JVasctZlOM",
    "outputId": "c1f5a2b6-3c31-49e6-947e-44772cd97fbd"
   },
   "outputs": [],
   "source": [
    "# 추가 코드 - 이 셀은 그림 9-6을 생성하고 저장합니다.\n",
    "\n",
    "from timeit import timeit\n",
    "\n",
    "max_k = 100\n",
    "times = np.empty((max_k, 2))\n",
    "inertias = np.empty((max_k, 2))\n",
    "for k in range(1, max_k + 1):\n",
    "    # 사이킷런 1.3에서 'full'이 deprecated 된다는 경고를 피하기 위해 'lloyd'로 지정함\n",
    "    kmeans_ = KMeans(n_clusters=k, algorithm=\"lloyd\", n_init=10, random_state=42)\n",
    "    minibatch_kmeans = MiniBatchKMeans(n_clusters=k, n_init=10, random_state=42)\n",
    "    print(f\"\\r{k}/{max_k}\", end=\"\")  # \\r returns to the start of line\n",
    "    times[k - 1, 0] = timeit(\"kmeans_.fit(X)\", number=10, globals=globals())\n",
    "    times[k - 1, 1] = timeit(\"minibatch_kmeans.fit(X)\", number=10,\n",
    "                             globals=globals())\n",
    "    inertias[k - 1, 0] = kmeans_.inertia_\n",
    "    inertias[k - 1, 1] = minibatch_kmeans.inertia_\n",
    "\n",
    "plt.figure(figsize=(10, 4))\n",
    "\n",
    "plt.subplot(121)\n",
    "plt.plot(range(1, max_k + 1), inertias[:, 0], \"r--\", label=\"K-평균\")\n",
    "plt.plot(range(1, max_k + 1), inertias[:, 1], \"b.-\", label=\"미니 배치 K-평균\")\n",
    "plt.xlabel(\"$k$\")\n",
    "plt.title(\"이너셔\")\n",
    "plt.legend()\n",
    "plt.axis([1, max_k, 0, 100])\n",
    "plt.grid()\n",
    "\n",
    "plt.subplot(122)\n",
    "plt.plot(range(1, max_k + 1), times[:, 0], \"r--\", label=\"K-평균\")\n",
    "plt.plot(range(1, max_k + 1), times[:, 1], \"b.-\", label=\"미니 배치 K-평균\")\n",
    "plt.xlabel(\"$k$\")\n",
    "plt.title(\"훈련 시간 (초)\")\n",
    "plt.axis([1, max_k, 0, 4])\n",
    "plt.grid()\n",
    "\n",
    "save_fig(\"minibatch_kmeans_vs_kmeans_plot\")\n",
    "plt.show()"
   ]
  },
  {
   "cell_type": "markdown",
   "metadata": {
    "id": "T9uC3_6nZlOM"
   },
   "source": [
    "### 최적의 클러스터 수 찾기"
   ]
  },
  {
   "cell_type": "markdown",
   "metadata": {
    "id": "daXC-JLDZlOM"
   },
   "source": [
    "클러스터 수가 5보다 작거나 큰 값으로 설정된 경우 어떻게 되나요?"
   ]
  },
  {
   "cell_type": "code",
   "execution_count": null,
   "metadata": {
    "colab": {
     "base_uri": "https://localhost:8080/",
     "height": 315
    },
    "id": "hFlaYVRDZlOM",
    "outputId": "b3c9bc36-224c-4c5c-a554-0e0878fb88d1"
   },
   "outputs": [],
   "source": [
    "# 추가 코드 - 이 셀은 그림 9-7을 생성하고 저장합니다.\n",
    "\n",
    "kmeans_k3 = KMeans(n_clusters=3, n_init=10, random_state=42)\n",
    "kmeans_k8 = KMeans(n_clusters=8, n_init=10, random_state=42)\n",
    "\n",
    "plot_clusterer_comparison(kmeans_k3, kmeans_k8, X, \"$k=3$\", \"$k=8$\")\n",
    "save_fig(\"bad_n_clusters_plot\")\n",
    "plt.show()"
   ]
  },
  {
   "cell_type": "markdown",
   "metadata": {
    "id": "6doFqqb5ZlOM"
   },
   "source": [
    "이 두 모델은 보기가 좋지 않습니다. 이너셔는 어떨까요?"
   ]
  },
  {
   "cell_type": "code",
   "execution_count": null,
   "metadata": {
    "colab": {
     "base_uri": "https://localhost:8080/"
    },
    "id": "0ZZne2rHZlON",
    "outputId": "18eb4b11-d9fc-468a-8bf4-618aaeb3c766"
   },
   "outputs": [],
   "source": [
    "kmeans_k3.inertia_"
   ]
  },
  {
   "cell_type": "code",
   "execution_count": null,
   "metadata": {
    "colab": {
     "base_uri": "https://localhost:8080/"
    },
    "id": "k9q_DmgiZlON",
    "outputId": "9843cf21-1141-4e27-a2da-53e61291f02a"
   },
   "outputs": [],
   "source": [
    "kmeans_k8.inertia_"
   ]
  },
  {
   "cell_type": "markdown",
   "metadata": {
    "id": "UlwbJMs6ZlON"
   },
   "source": [
    "아니요, $k$를 증가시키면 이너셔가 계속 낮아지기 때문에 단순히 이너셔를 최소화하는 $k$의 값을 취할 수는 없습니다. 실제로 클러스터가 많을수록 각 인스턴스가 가장 가까운 중심점에 가까워지므로 이너셔가 낮아집니다. 그러나 이너셔를 $k$의 함수로 플롯하고 결과 곡선을 분석할 수 있습니다:"
   ]
  },
  {
   "cell_type": "code",
   "execution_count": null,
   "metadata": {
    "colab": {
     "base_uri": "https://localhost:8080/",
     "height": 345
    },
    "id": "Yir7Z11RZlON",
    "outputId": "f388b61d-ece1-40cd-e160-ed8fdb4d95dd"
   },
   "outputs": [],
   "source": [
    "# 추가 코드 - 이 셀은 그림 9-8을 생성하고 저장합니다.\n",
    "\n",
    "kmeans_per_k = [KMeans(n_clusters=k, n_init=10, random_state=42).fit(X)\n",
    "                for k in range(1, 10)]\n",
    "inertias = [model.inertia_ for model in kmeans_per_k]\n",
    "\n",
    "plt.figure(figsize=(8, 3.5))\n",
    "plt.plot(range(1, 10), inertias, \"bo-\")\n",
    "plt.xlabel(\"$k$\")\n",
    "plt.ylabel(\"이너셔\")\n",
    "plt.annotate(\"\", xy=(4, inertias[3]), xytext=(4.45, 650),\n",
    "             arrowprops=dict(facecolor='black', shrink=0.1))\n",
    "plt.text(4.5, 650, \"엘보\", horizontalalignment=\"center\")\n",
    "plt.axis([1, 8.5, 0, 1300])\n",
    "plt.grid()\n",
    "save_fig(\"inertia_vs_k_plot\")\n",
    "plt.show()"
   ]
  },
  {
   "cell_type": "markdown",
   "metadata": {
    "id": "3YTijAjzZlON"
   },
   "source": [
    "보시다시피 $k=4$에 엘보가 있는데, 이는 클러스터 수가 이보다 적으면 좋지 않고 클러스터 수가 많으면 큰 도움이 되지 않으며 클러스터 수를 절반으로 줄일 수 있음을 의미합니다. 따라서 $k=4$는 꽤 좋은 선택입니다. 물론 이 예제에서는 왼쪽 하단의 두 개의 블롭이 하나의 클러스터로 간주되기 때문에 완벽하지는 않지만, 그럼에도 불구하고 꽤 좋은 군집 결과입니다."
   ]
  },
  {
   "cell_type": "code",
   "execution_count": null,
   "metadata": {
    "colab": {
     "base_uri": "https://localhost:8080/",
     "height": 455
    },
    "id": "SouIQgjKZlON",
    "outputId": "560c1b15-c975-4a1f-f08f-ec8caa92ba0c"
   },
   "outputs": [],
   "source": [
    "# 추가 코드\n",
    "plot_decision_boundaries(kmeans_per_k[4 - 1], X)\n",
    "plt.show()"
   ]
  },
  {
   "cell_type": "markdown",
   "metadata": {
    "id": "95F6Hm4KZlON"
   },
   "source": [
    "또 다른 접근 방식은 모든 샘플에 대한 평균 _실루엣 계수_인 _실루엣 점수_를 살펴보는 것입니다. 샘플의 실루엣 계수는 (_b_ - _a_) / max(_a_, _b_) 와 같으며, 여기서 _a_ 는 동일한 클러스터에 있는 다른 샘플과의 평균 거리(_평균 클러스터 내 거리_)이고, _b_ 는 _평균 가장 가까운 클러스터 거리_, 즉 다음으로 가까운 클러스터(샘플의 자체 클러스터를 제외하고 _b_ 를 최소화하는 클러스터로 정의)의 샘플과의 평균 거리입니다. 실루엣 계수는 -1에서 +1 사이에서 달라질 수 있습니다. 계수가 +1에 가까우면 샘플이 자체 클러스터 내부에 있고 다른 클러스터와 멀리 떨어져 있음을 의미하고, 계수가 0에 가까우면 클러스터 경계에 가깝다는 의미이며, 마지막으로 -1에 가까우면 샘플이 잘못된 클러스터에 할당되었을 수 있음을 의미합니다."
   ]
  },
  {
   "cell_type": "markdown",
   "metadata": {
    "id": "z6gsUxBcZlON"
   },
   "source": [
    "실루엣 점수를 $k$의 함수로 플롯해 보겠습니다:"
   ]
  },
  {
   "cell_type": "code",
   "execution_count": 49,
   "metadata": {
    "id": "J3mK3d0ZZlOO"
   },
   "outputs": [],
   "source": [
    "from sklearn.metrics import silhouette_score"
   ]
  },
  {
   "cell_type": "code",
   "execution_count": null,
   "metadata": {
    "colab": {
     "base_uri": "https://localhost:8080/"
    },
    "id": "2fIZkvN4ZlOO",
    "outputId": "76f48bd1-01e4-496e-fe44-0fbcc4255d85"
   },
   "outputs": [],
   "source": [
    "silhouette_score(X, kmeans.labels_)"
   ]
  },
  {
   "cell_type": "code",
   "execution_count": null,
   "metadata": {
    "colab": {
     "base_uri": "https://localhost:8080/",
     "height": 295
    },
    "id": "f64brVhcZlOO",
    "outputId": "9b895014-eb10-4282-d95d-c1f0c1e1e76d"
   },
   "outputs": [],
   "source": [
    "# 추가 코드 - 이 셀은 그림 9-9를 생성하고 저장합니다.\n",
    "\n",
    "silhouette_scores = [silhouette_score(X, model.labels_)\n",
    "                     for model in kmeans_per_k[1:]]\n",
    "\n",
    "plt.figure(figsize=(8, 3))\n",
    "plt.plot(range(2, 10), silhouette_scores, \"bo-\")\n",
    "plt.xlabel(\"$k$\")\n",
    "plt.ylabel(\"실루엣 점수\")\n",
    "plt.axis([1.8, 8.5, 0.55, 0.7])\n",
    "plt.grid()\n",
    "save_fig(\"silhouette_score_vs_k_plot\")\n",
    "plt.show()"
   ]
  },
  {
   "cell_type": "markdown",
   "metadata": {
    "id": "oojWDj9VZlOO"
   },
   "source": [
    "보시다시피, 이 시각화는 이전 시각화보다 훨씬 더 풍부합니다. 특히 $k=4$가 매우 좋은 선택이라는 것을 확인하지만, $k=5$도 상당히 좋다는 사실도 강조합니다."
   ]
  },
  {
   "cell_type": "markdown",
   "metadata": {
    "id": "pJsdlsd0ZlOO"
   },
   "source": [
    "모든 샘플의 실루엣 계수를 할당된 클러스터와 계수 값에 따라 정렬하여 플로팅하면 훨씬 더 많은 정보를 시각화할 수 있습니다. 이를 _실루엣 다이어그램_이라고 합니다:"
   ]
  },
  {
   "cell_type": "code",
   "execution_count": null,
   "metadata": {
    "colab": {
     "base_uri": "https://localhost:8080/",
     "height": 894
    },
    "id": "L6K2QvgPZlOO",
    "outputId": "9f693427-9f70-4b2d-f080-8f32eca7549b"
   },
   "outputs": [],
   "source": [
    "# 추가 코드 - 이 셀은 그림 9-10을 생성하고 저장합니다.\n",
    "\n",
    "from sklearn.metrics import silhouette_samples\n",
    "from matplotlib.ticker import FixedLocator, FixedFormatter\n",
    "\n",
    "plt.figure(figsize=(11, 9))\n",
    "\n",
    "for k in (3, 4, 5, 6):\n",
    "    plt.subplot(2, 2, k - 2)\n",
    "\n",
    "    y_pred = kmeans_per_k[k - 1].labels_\n",
    "    silhouette_coefficients = silhouette_samples(X, y_pred)\n",
    "\n",
    "    padding = len(X) // 30\n",
    "    pos = padding\n",
    "    ticks = []\n",
    "    for i in range(k):\n",
    "        coeffs = silhouette_coefficients[y_pred == i]\n",
    "        coeffs.sort()\n",
    "\n",
    "        color = plt.cm.Spectral(i / k)\n",
    "        plt.fill_betweenx(np.arange(pos, pos + len(coeffs)), 0, coeffs,\n",
    "                          facecolor=color, edgecolor=color, alpha=0.7)\n",
    "        ticks.append(pos + len(coeffs) // 2)\n",
    "        pos += len(coeffs) + padding\n",
    "\n",
    "    plt.gca().yaxis.set_major_locator(FixedLocator(ticks))\n",
    "    plt.gca().yaxis.set_major_formatter(FixedFormatter(range(k)))\n",
    "    if k in (3, 5):\n",
    "        plt.ylabel(\"클러스터\")\n",
    "\n",
    "    if k in (5, 6):\n",
    "        plt.gca().set_xticks([-0.1, 0, 0.2, 0.4, 0.6, 0.8, 1])\n",
    "        plt.xlabel(\"실루엣 계수\")\n",
    "    else:\n",
    "        plt.tick_params(labelbottom=False)\n",
    "\n",
    "    plt.axvline(x=silhouette_scores[k - 2], color=\"red\", linestyle=\"--\")\n",
    "    plt.title(f\"$k={k}$\")\n",
    "\n",
    "save_fig(\"silhouette_analysis_plot\")\n",
    "plt.show()"
   ]
  },
  {
   "cell_type": "markdown",
   "metadata": {
    "id": "3wA0qf8AZlOO"
   },
   "source": [
    "보시다시피 모든 클러스터의 크기가 거의 같고 평균 실루엣 점수를 나타내는 점선을 모두 교차하기 때문에 $k=5$가 가장 좋은 옵션으로 보입니다."
   ]
  },
  {
   "cell_type": "markdown",
   "metadata": {
    "id": "UVnXWq7_ZlOO"
   },
   "source": [
    "## 9.1.2 K-평균의 한계"
   ]
  },
  {
   "cell_type": "markdown",
   "metadata": {
    "id": "sSQj8jfWZlOP"
   },
   "source": [
    "길쭉한 블롭과 다양한 밀도를 가진 더 어려운 데이터셋을 생성하고, K-평균이 이 데이터셋을 올바르게 클러스터링하는 데 어려움을 겪는다는 것을 보여드리겠습니다:"
   ]
  },
  {
   "cell_type": "code",
   "execution_count": null,
   "metadata": {
    "colab": {
     "base_uri": "https://localhost:8080/",
     "height": 315
    },
    "id": "66dC9-MYZlOP",
    "outputId": "e761a003-ea93-4d2d-a66a-48ec97ed4d30"
   },
   "outputs": [],
   "source": [
    "# 추가 코드 - 이 셀은 그림 9-11을 생성하고 저장합니다.\n",
    "\n",
    "X1, y1 = make_blobs(n_samples=1000, centers=((4, -4), (0, 0)), random_state=42)\n",
    "X1 = X1.dot(np.array([[0.374, 0.95], [0.732, 0.598]]))\n",
    "X2, y2 = make_blobs(n_samples=250, centers=1, random_state=42)\n",
    "X2 = X2 + [6, -8]\n",
    "X = np.r_[X1, X2]\n",
    "y = np.r_[y1, y2]\n",
    "\n",
    "kmeans_good = KMeans(n_clusters=3,\n",
    "                     init=np.array([[-1.5, 2.5], [0.5, 0], [4, 0]]),\n",
    "                     n_init=1, random_state=42)\n",
    "kmeans_bad = KMeans(n_clusters=3, n_init=10, random_state=42)\n",
    "kmeans_good.fit(X)\n",
    "kmeans_bad.fit(X)\n",
    "\n",
    "plt.figure(figsize=(10, 3.2))\n",
    "\n",
    "plt.subplot(121)\n",
    "plot_decision_boundaries(kmeans_good, X)\n",
    "plt.title(f\"이너셔 = {kmeans_good.inertia_:.1f}\")\n",
    "\n",
    "plt.subplot(122)\n",
    "plot_decision_boundaries(kmeans_bad, X, show_ylabels=False)\n",
    "plt.title(f\"이너셔 = {kmeans_bad.inertia_:.1f}\")\n",
    "\n",
    "save_fig(\"bad_kmeans_plot\")\n",
    "plt.show()"
   ]
  },
  {
   "cell_type": "markdown",
   "metadata": {
    "id": "BAnV22Z7ZlOP"
   },
   "source": [
    "## 9.1.3 군집을 사용한 이미지 분할"
   ]
  },
  {
   "cell_type": "markdown",
   "metadata": {
    "id": "BeFGTSJrZlOP"
   },
   "source": [
    "무당벌레 이미지를 다운로드합니다:"
   ]
  },
  {
   "cell_type": "code",
   "execution_count": null,
   "metadata": {
    "colab": {
     "base_uri": "https://localhost:8080/"
    },
    "id": "VGgF7tu0ZlOP",
    "outputId": "7ae88248-1fa1-4368-fc30-53f168c36632"
   },
   "outputs": [],
   "source": [
    "# 추가 코드 - 무당벌레 이미지 다운로드\n",
    "\n",
    "import urllib.request\n",
    "\n",
    "homl3_root = \"https://github.com/ageron/handson-ml3/raw/main/\"\n",
    "filename = \"ladybug.png\"\n",
    "filepath = IMAGES_PATH / filename\n",
    "if not filepath.is_file():\n",
    "    print(\"Downloading\", filename)\n",
    "    url = f\"{homl3_root}/images/unsupervised_learning/{filename}\"\n",
    "    urllib.request.urlretrieve(url, filepath)"
   ]
  },
  {
   "cell_type": "code",
   "execution_count": null,
   "metadata": {
    "colab": {
     "base_uri": "https://localhost:8080/"
    },
    "id": "79IrJlcEZlOP",
    "outputId": "1bdb0707-87c2-4a4b-e19e-0ac490780a8f"
   },
   "outputs": [],
   "source": [
    "import PIL\n",
    "\n",
    "image = np.asarray(PIL.Image.open(filepath))\n",
    "image.shape"
   ]
  },
  {
   "cell_type": "code",
   "execution_count": 56,
   "metadata": {
    "id": "TCviveLdZlOP"
   },
   "outputs": [],
   "source": [
    "# X = ..."
   ]
  },
  {
   "cell_type": "code",
   "execution_count": null,
   "metadata": {
    "colab": {
     "base_uri": "https://localhost:8080/",
     "height": 428
    },
    "id": "utNCYSCSZlOP",
    "outputId": "b7ca2eca-4776-4a5c-b8c1-18c2337cdaae"
   },
   "outputs": [],
   "source": [
    "# 추가 코드 - 이 셀은 그림 9-12를 생성하고 저장합니다.\n",
    "\n",
    "segmented_imgs = []\n",
    "n_colors = (10, 8, 6, 4, 2)\n",
    "for n_clusters in n_colors:\n",
    "    kmeans = KMeans(n_clusters=n_clusters, n_init=10, random_state=42).fit(X)\n",
    "    segmented_img = kmeans.cluster_centers_[kmeans.labels_]\n",
    "    segmented_imgs.append(segmented_img.reshape(image.shape))\n",
    "\n",
    "plt.figure(figsize=(10, 5))\n",
    "plt.subplots_adjust(wspace=0.05, hspace=0.1)\n",
    "\n",
    "plt.subplot(2, 3, 1)\n",
    "plt.imshow(image)\n",
    "plt.title(\"원본 이미지\")\n",
    "plt.axis('off')\n",
    "\n",
    "for idx, n_clusters in enumerate(n_colors):\n",
    "    plt.subplot(2, 3, 2 + idx)\n",
    "    plt.imshow(segmented_imgs[idx] / 255)\n",
    "    plt.title(f\"{n_clusters} 색상\")\n",
    "    plt.axis('off')\n",
    "\n",
    "save_fig('image_segmentation_plot', tight_layout=False)\n",
    "plt.show()"
   ]
  },
  {
   "cell_type": "markdown",
   "metadata": {
    "id": "i4taHwlMZlOP"
   },
   "source": [
    "## 9.1.4 군집을 사용한 준지도 학습"
   ]
  },
  {
   "cell_type": "markdown",
   "metadata": {
    "id": "a3v-riohZlOQ"
   },
   "source": [
    "군집의 또 다른 사용 사례는 레이블이 지정되지 않은 샘플이 많고 레이블이 지정된 샘플이 매우 적은 경우의 준지도 학습입니다."
   ]
  },
  {
   "cell_type": "markdown",
   "metadata": {
    "id": "ROYhPKTsZlOQ"
   },
   "source": [
    "숫자 0에서 9까지를 나타내는 1,797개의 8×8 흑백 이미지가 포함된 MNIST와 유사한 데이터셋인 간단한 _digits 데이터셋_ 을 살펴봅시다."
   ]
  },
  {
   "cell_type": "code",
   "execution_count": 58,
   "metadata": {
    "id": "w0RD5hHxZlOQ"
   },
   "outputs": [],
   "source": [
    "from sklearn.datasets import load_digits\n",
    "\n",
    "# ..."
   ]
  },
  {
   "cell_type": "markdown",
   "metadata": {
    "id": "imz3dMMMZlOQ"
   },
   "source": [
    "레이블이 지정된 샘플이 50개만 있을 때 로지스틱 회귀 모델의 성능을 살펴보겠습니다:"
   ]
  },
  {
   "cell_type": "code",
   "execution_count": null,
   "metadata": {
    "colab": {
     "base_uri": "https://localhost:8080/",
     "height": 75
    },
    "id": "_3w1i59dZlOQ",
    "outputId": "de4b471b-1d4a-44eb-d129-f2814d779df6"
   },
   "outputs": [],
   "source": [
    "from sklearn.linear_model import LogisticRegression\n",
    "\n",
    "# ..."
   ]
  },
  {
   "cell_type": "code",
   "execution_count": null,
   "metadata": {
    "colab": {
     "base_uri": "https://localhost:8080/"
    },
    "id": "M7Li4yVTZlOQ",
    "outputId": "4846b3ea-7c0c-4e77-9612-16428c46de89"
   },
   "outputs": [],
   "source": [
    "log_reg.score(X_test, y_test)"
   ]
  },
  {
   "cell_type": "code",
   "execution_count": null,
   "metadata": {
    "colab": {
     "base_uri": "https://localhost:8080/"
    },
    "id": "vJf1wirPZlOQ",
    "outputId": "793ff599-dcc8-4a13-9441-39affb911468"
   },
   "outputs": [],
   "source": [
    "# 추가 코드 - 전체 훈련 세트를 사용할 때의 정확도 측정\n",
    "log_reg_full = LogisticRegression(max_iter=10_000)\n",
    "log_reg_full.fit(X_train, y_train)\n",
    "log_reg_full.score(X_test, y_test)"
   ]
  },
  {
   "cell_type": "markdown",
   "metadata": {
    "id": "7EOi-mXsZlOQ"
   },
   "source": [
    "물론 이전보다는 훨씬 적습니다. 어떻게 하면 더 잘할 수 있는지 살펴봅시다. 먼저 훈련 세트를 50개의 클러스터로 모은 다음 각 클러스터에 대해 센트로이드에 가장 가까운 이미지를 찾아보겠습니다. 이 이미지를 대표 이미지라고 부르겠습니다:"
   ]
  },
  {
   "cell_type": "code",
   "execution_count": 62,
   "metadata": {
    "id": "Riq1_px_ZlOR"
   },
   "outputs": [],
   "source": [
    "k = 50\n",
    "# ..."
   ]
  },
  {
   "cell_type": "markdown",
   "metadata": {
    "id": "ds3s82ZaZlOR"
   },
   "source": [
    "이제 이러한 대표 이미지를 플로팅하고 수동으로 레이블을 지정해 보겠습니다:"
   ]
  },
  {
   "cell_type": "code",
   "execution_count": null,
   "metadata": {
    "colab": {
     "base_uri": "https://localhost:8080/",
     "height": 191
    },
    "id": "HA9q9HUkZlOR",
    "outputId": "e6b3c5ac-f4bf-4ffa-b5d7-a20d0574448e"
   },
   "outputs": [],
   "source": [
    "# 추가 코드 - 이 셀은 그림 9-13을 생성하고 저장합니다.\n",
    "\n",
    "plt.figure(figsize=(8, 2))\n",
    "for index, X_representative_digit in enumerate(X_representative_digits):\n",
    "    plt.subplot(k // 10, 10, index + 1)\n",
    "    plt.imshow(X_representative_digit.reshape(8, 8), cmap=\"binary\",\n",
    "               interpolation=\"bilinear\")\n",
    "    plt.axis('off')\n",
    "\n",
    "save_fig(\"representative_images_plot\", tight_layout=False)\n",
    "plt.show()"
   ]
  },
  {
   "cell_type": "code",
   "execution_count": 64,
   "metadata": {
    "id": "kqK2cYGvZlOR"
   },
   "outputs": [],
   "source": [
    "y_representative_digits = np.array([\n",
    "    1, 3, 6, 0, 7, 9, 2, 4, 8, 9,\n",
    "    5, 4, 7, 1, 2, 6, 1, 2, 5, 1,\n",
    "    4, 1, 3, 3, 8, 8, 2, 5, 6, 9,\n",
    "    1, 4, 0, 6, 8, 3, 4, 6, 7, 2,\n",
    "    4, 1, 0, 7, 5, 1, 9, 9, 3, 7\n",
    "])"
   ]
  },
  {
   "cell_type": "markdown",
   "metadata": {
    "id": "DX4wZPnzZlOR"
   },
   "source": [
    "이제 50개의 레이블이 지정된 샘플만 있는 데이터 세트가 있지만, 완전히 무작위 샘플이 아니라 각 샘플이 클러스터의 대표 이미지입니다. 성능이 더 좋아졌는지 살펴봅시다:"
   ]
  },
  {
   "cell_type": "code",
   "execution_count": null,
   "metadata": {
    "colab": {
     "base_uri": "https://localhost:8080/"
    },
    "id": "LQqkKwTVZlOR",
    "outputId": "3f5ca738-5c99-4341-ed68-93eb48846a15"
   },
   "outputs": [],
   "source": [
    "log_reg = LogisticRegression(max_iter=10_000)\n",
    "log_reg.fit(X_representative_digits, y_representative_digits)\n",
    "log_reg.score(X_test, y_test)"
   ]
  },
  {
   "cell_type": "markdown",
   "metadata": {
    "id": "vyAobbyTZlOR"
   },
   "source": [
    "와우! 정확도가 74.8%에서 84.9%로 뛰어올랐지만, 아직 50개의 샘플로만 모델을 훈련하고 있습니다. 샘플에 레이블을 지정하는 작업은 비용이 많이 들고 번거로운 경우가 많으며, 특히 전문가가 수동으로 수행해야 하는 경우에는 무작위 샘플보다는 대표적인 샘플에 레이블을 지정하는 것이 좋습니다."
   ]
  },
  {
   "cell_type": "markdown",
   "metadata": {
    "id": "HIFDBbdHZlOR"
   },
   "source": [
    "하지만 한 단계 더 나아가 동일한 클러스터의 다른 모든 샘플에 레이블을 전파하면 어떨까요?"
   ]
  },
  {
   "cell_type": "code",
   "execution_count": 66,
   "metadata": {
    "id": "l6hGJnfbZlOR"
   },
   "outputs": [],
   "source": [
    "y_train_propagated = np.empty(len(X_train), dtype=np.int64)\n",
    "for i in range(k):\n",
    "    y_train_propagated[kmeans.labels_ == i] = y_representative_digits[i]"
   ]
  },
  {
   "cell_type": "code",
   "execution_count": null,
   "metadata": {
    "colab": {
     "base_uri": "https://localhost:8080/",
     "height": 75
    },
    "id": "qRaZA4wFZlOS",
    "outputId": "e9265f19-4e03-435c-815e-c2ca551152c8"
   },
   "outputs": [],
   "source": [
    "log_reg = LogisticRegression(max_iter=10_000)\n",
    "log_reg.fit(X_train, y_train_propagated)"
   ]
  },
  {
   "cell_type": "code",
   "execution_count": 4,
   "metadata": {
    "colab": {
     "base_uri": "https://localhost:8080/"
    },
    "id": "DEKuZ42PZlOS",
    "outputId": "1221da73-d2d7-4dd7-a168-6231bdf74983"
   },
   "outputs": [
    {
     "ename": "NameError",
     "evalue": "name 'log_reg' is not defined",
     "output_type": "error",
     "traceback": [
      "\u001b[0;31m---------------------------------------------------------------------------\u001b[0m",
      "\u001b[0;31mNameError\u001b[0m                                 Traceback (most recent call last)",
      "Cell \u001b[0;32mIn[4], line 1\u001b[0m\n\u001b[0;32m----> 1\u001b[0m \u001b[43mlog_reg\u001b[49m\u001b[38;5;241m.\u001b[39mscore(X_test, y_test)\n",
      "\u001b[0;31mNameError\u001b[0m: name 'log_reg' is not defined"
     ]
    }
   ],
   "source": [
    "log_reg.score(X_test, y_test)"
   ]
  },
  {
   "cell_type": "markdown",
   "metadata": {
    "id": "EU7Smgq4ZlOS"
   },
   "source": [
    "정확도가 또 한 번 크게 향상되었습니다! 클러스터 중심에서 가장 멀리 떨어진 1%의 샘플을 무시하면 더 나은 결과를 얻을 수 있는지 확인해 보겠습니다. 이렇게 하면 일부 이상치가 제거됩니다:"
   ]
  },
  {
   "cell_type": "code",
   "execution_count": 69,
   "metadata": {
    "id": "d_k1XevMZlOS"
   },
   "outputs": [],
   "source": [
    "percentile_closest = 99\n",
    "\n",
    "# ..."
   ]
  },
  {
   "cell_type": "code",
   "execution_count": null,
   "metadata": {
    "colab": {
     "base_uri": "https://localhost:8080/"
    },
    "id": "xq_hrRxOZlOS",
    "outputId": "859911ee-645e-4b7c-e410-726328324df9"
   },
   "outputs": [],
   "source": [
    "log_reg = LogisticRegression(max_iter=10_000)\n",
    "log_reg.fit(X_train_partially_propagated, y_train_partially_propagated)\n",
    "log_reg.score(X_test, y_test)"
   ]
  },
  {
   "cell_type": "markdown",
   "metadata": {
    "id": "5XSxWRDBZlOS"
   },
   "source": [
    "와, 또 한 번 정확도가 향상되었습니다! 완전히 레이블이 지정된 훈련 세트로 훈련했을 때 얻은 성능을 약간 능가했습니다!"
   ]
  },
  {
   "cell_type": "markdown",
   "metadata": {
    "id": "BFmEGt7FZlOS"
   },
   "source": [
    "실제로 전파된 레이블의 정확도는 약 97.6%에 달할 정도로 매우 우수합니다:"
   ]
  },
  {
   "cell_type": "code",
   "execution_count": null,
   "metadata": {
    "colab": {
     "base_uri": "https://localhost:8080/"
    },
    "id": "7IcFDkNXZlOS",
    "outputId": "91009cf0-9995-4ab7-b072-bf6f95fc8365"
   },
   "outputs": [],
   "source": [
    "(y_train_partially_propagated == y_train[partially_propagated]).mean()"
   ]
  },
  {
   "cell_type": "markdown",
   "metadata": {
    "id": "qR2y5C6GZlOT"
   },
   "source": [
    "이제 *능동 학습*을 몇 번 반복할 수 있습니다:\n",
    "1. 가능하면 각각의 클러스터에서 분류기가 가장 불확실하게 예측하는 샘플에 수동으로 레이블을 지정합니다.\n",
    "2. 이러한 추가 레이블을 사용하여 새 모델을 학습시킵니다."
   ]
  },
  {
   "cell_type": "markdown",
   "metadata": {
    "id": "4Qa4EIKPZlOT"
   },
   "source": [
    "## 9.1.5 DBSCAN"
   ]
  },
  {
   "cell_type": "code",
   "execution_count": null,
   "metadata": {
    "colab": {
     "base_uri": "https://localhost:8080/",
     "height": 75
    },
    "id": "2tx5YbKWZlOT",
    "outputId": "9e61af00-33ef-45b6-e273-de4f08ee204c"
   },
   "outputs": [],
   "source": [
    "from sklearn.cluster import DBSCAN\n",
    "from sklearn.datasets import make_moons\n",
    "\n",
    "# ..."
   ]
  },
  {
   "cell_type": "code",
   "execution_count": null,
   "metadata": {
    "colab": {
     "base_uri": "https://localhost:8080/"
    },
    "id": "eJQhIem8ZlOT",
    "outputId": "9ecf8891-50b0-41cb-f0c1-5416b9571c7a"
   },
   "outputs": [],
   "source": [
    "dbscan.labels_[:10]"
   ]
  },
  {
   "cell_type": "code",
   "execution_count": null,
   "metadata": {
    "colab": {
     "base_uri": "https://localhost:8080/"
    },
    "id": "N5jS9ZcXZlOT",
    "outputId": "8deb4e97-ee96-4491-b72c-4a31583664e8"
   },
   "outputs": [],
   "source": [
    "dbscan.core_sample_indices_[:10]"
   ]
  },
  {
   "cell_type": "code",
   "execution_count": null,
   "metadata": {
    "colab": {
     "base_uri": "https://localhost:8080/"
    },
    "id": "puCEzwZXZlOT",
    "outputId": "685d5d0a-10b8-4a69-b78d-f3dfb3ce57a5"
   },
   "outputs": [],
   "source": [
    "dbscan.components_"
   ]
  },
  {
   "cell_type": "code",
   "execution_count": null,
   "metadata": {
    "colab": {
     "base_uri": "https://localhost:8080/",
     "height": 315
    },
    "id": "7fWT4H--ZlOT",
    "outputId": "c901e887-bd8c-4d31-f705-62e862f99d9a"
   },
   "outputs": [],
   "source": [
    "# 추가 코드 - 이 셀은 그림 9-14를 생성하고 저장합니다.\n",
    "\n",
    "def plot_dbscan(dbscan, X, size, show_xlabels=True, show_ylabels=True):\n",
    "    core_mask = np.zeros_like(dbscan.labels_, dtype=bool)\n",
    "    core_mask[dbscan.core_sample_indices_] = True\n",
    "    anomalies_mask = dbscan.labels_ == -1\n",
    "    non_core_mask = ~(core_mask | anomalies_mask)\n",
    "\n",
    "    cores = dbscan.components_\n",
    "    anomalies = X[anomalies_mask]\n",
    "    non_cores = X[non_core_mask]\n",
    "\n",
    "    plt.scatter(cores[:, 0], cores[:, 1],\n",
    "                c=dbscan.labels_[core_mask], marker='o', s=size, cmap=\"Paired\")\n",
    "    plt.scatter(cores[:, 0], cores[:, 1], marker='*', s=20,\n",
    "                c=dbscan.labels_[core_mask])\n",
    "    plt.scatter(anomalies[:, 0], anomalies[:, 1],\n",
    "                c=\"r\", marker=\"x\", s=100)\n",
    "    plt.scatter(non_cores[:, 0], non_cores[:, 1],\n",
    "                c=dbscan.labels_[non_core_mask], marker=\".\")\n",
    "    if show_xlabels:\n",
    "        plt.xlabel(\"$x_1$\")\n",
    "    else:\n",
    "        plt.tick_params(labelbottom=False)\n",
    "    if show_ylabels:\n",
    "        plt.ylabel(\"$x_2$\", rotation=0)\n",
    "    else:\n",
    "        plt.tick_params(labelleft=False)\n",
    "    plt.title(f\"eps={dbscan.eps:.2f}, min_samples={dbscan.min_samples}\")\n",
    "    plt.grid()\n",
    "    plt.gca().set_axisbelow(True)\n",
    "\n",
    "dbscan2 = DBSCAN(eps=0.2)\n",
    "dbscan2.fit(X)\n",
    "\n",
    "plt.figure(figsize=(9, 3.2))\n",
    "\n",
    "plt.subplot(121)\n",
    "plot_dbscan(dbscan, X, size=100)\n",
    "\n",
    "plt.subplot(122)\n",
    "plot_dbscan(dbscan2, X, size=600, show_ylabels=False)\n",
    "\n",
    "save_fig(\"dbscan_plot\")\n",
    "plt.show()"
   ]
  },
  {
   "cell_type": "code",
   "execution_count": 77,
   "metadata": {
    "id": "EKggxiCMZlOT"
   },
   "outputs": [],
   "source": [
    "dbscan = dbscan2  # 추가 코드 - 책에는 eps=0.2를 사용한다고 나와 있습니다."
   ]
  },
  {
   "cell_type": "code",
   "execution_count": null,
   "metadata": {
    "colab": {
     "base_uri": "https://localhost:8080/",
     "height": 75
    },
    "id": "bKYrXckMZlOU",
    "outputId": "28e463c5-3a2c-4436-e08d-340c36595c6b"
   },
   "outputs": [],
   "source": [
    "from sklearn.neighbors import KNeighborsClassifier\n",
    "\n",
    "# ..."
   ]
  },
  {
   "cell_type": "code",
   "execution_count": null,
   "metadata": {
    "colab": {
     "base_uri": "https://localhost:8080/"
    },
    "id": "fzhNjIYDZlOU",
    "outputId": "b1144626-2572-4e32-f638-d36305de5e30"
   },
   "outputs": [],
   "source": [
    "X_new = np.array([[-0.5, 0], [0, 0.5], [1, -0.1], [2, 1]])\n",
    "knn.predict(X_new)"
   ]
  },
  {
   "cell_type": "code",
   "execution_count": null,
   "metadata": {
    "colab": {
     "base_uri": "https://localhost:8080/"
    },
    "id": "scxGPqFYZlOU",
    "outputId": "f84ba41d-4d53-4f5f-dbee-b87e6bc4c2ac"
   },
   "outputs": [],
   "source": [
    "knn.predict_proba(X_new)"
   ]
  },
  {
   "cell_type": "code",
   "execution_count": null,
   "metadata": {
    "colab": {
     "base_uri": "https://localhost:8080/",
     "height": 295
    },
    "id": "3UnbUmgPZlOU",
    "outputId": "78f2fa73-8ae5-4afb-e168-85730b33fc17"
   },
   "outputs": [],
   "source": [
    "# 추가 코드 - 이 셀은 그림 9-15를 생성하고 저장합니다.\n",
    "\n",
    "plt.figure(figsize=(6, 3))\n",
    "plot_decision_boundaries(knn, X, show_centroids=False)\n",
    "plt.scatter(X_new[:, 0], X_new[:, 1], c=\"b\", marker=\"+\", s=200, zorder=10)\n",
    "save_fig(\"cluster_classification_plot\")\n",
    "plt.show()"
   ]
  },
  {
   "cell_type": "code",
   "execution_count": null,
   "metadata": {
    "colab": {
     "base_uri": "https://localhost:8080/"
    },
    "id": "Albwpes4ZlOU",
    "outputId": "3bd5998e-b9b8-408f-dc69-c36da2830c8e"
   },
   "outputs": [],
   "source": [
    "y_dist, y_pred_idx = knn.kneighbors(X_new, n_neighbors=1)\n",
    "y_pred = dbscan.labels_[dbscan.core_sample_indices_][y_pred_idx]\n",
    "y_pred[y_dist > 0.2] = -1\n",
    "y_pred.ravel()"
   ]
  },
  {
   "cell_type": "markdown",
   "metadata": {
    "id": "NhizcrZsZlOU"
   },
   "source": [
    "## 9.1.6 기타 군집 알고리즘"
   ]
  },
  {
   "cell_type": "markdown",
   "metadata": {
    "id": "mw6vZ6fgZlOU"
   },
   "source": [
    "이 섹션의 코드는 책에 포함되어 있지 않은 보너스 자료입니다."
   ]
  },
  {
   "cell_type": "markdown",
   "metadata": {
    "id": "FDzJ6mUyZlOU"
   },
   "source": [
    "### 스펙트럼 군집"
   ]
  },
  {
   "cell_type": "code",
   "execution_count": 83,
   "metadata": {
    "id": "lg2VMSI5ZlOU"
   },
   "outputs": [],
   "source": [
    "from sklearn.cluster import SpectralClustering"
   ]
  },
  {
   "cell_type": "code",
   "execution_count": null,
   "metadata": {
    "colab": {
     "base_uri": "https://localhost:8080/",
     "height": 75
    },
    "id": "vMTbYNaRZlOV",
    "outputId": "fd5c645d-6126-4214-e1ee-47ed7b1c218f"
   },
   "outputs": [],
   "source": [
    "sc1 = SpectralClustering(n_clusters=2, gamma=100, random_state=42)\n",
    "sc1.fit(X)"
   ]
  },
  {
   "cell_type": "code",
   "execution_count": null,
   "metadata": {
    "colab": {
     "base_uri": "https://localhost:8080/"
    },
    "id": "H7grMV03ZlOV",
    "outputId": "0460918a-e579-46b1-e4a9-be6de7cacfbc"
   },
   "outputs": [],
   "source": [
    "sc1.affinity_matrix_.round(2)"
   ]
  },
  {
   "cell_type": "code",
   "execution_count": null,
   "metadata": {
    "colab": {
     "base_uri": "https://localhost:8080/",
     "height": 75
    },
    "id": "4BzJocVGZlOV",
    "outputId": "ebe8a634-5b80-4e83-dd27-ad4d925558bb"
   },
   "outputs": [],
   "source": [
    "sc2 = SpectralClustering(n_clusters=2, gamma=1, random_state=42)\n",
    "sc2.fit(X)"
   ]
  },
  {
   "cell_type": "code",
   "execution_count": 87,
   "metadata": {
    "id": "5sy5z7rEZlOV"
   },
   "outputs": [],
   "source": [
    "def plot_spectral_clustering(sc, X, size, alpha, show_xlabels=True,\n",
    "                             show_ylabels=True):\n",
    "    plt.scatter(X[:, 0], X[:, 1], marker='o', s=size, c='gray', alpha=alpha)\n",
    "    plt.scatter(X[:, 0], X[:, 1], marker='o', s=30, c='w')\n",
    "    plt.scatter(X[:, 0], X[:, 1], marker='.', s=10, c=sc.labels_, cmap=\"Paired\")\n",
    "\n",
    "    if show_xlabels:\n",
    "        plt.xlabel(\"$x_1$\")\n",
    "    else:\n",
    "        plt.tick_params(labelbottom=False)\n",
    "    if show_ylabels:\n",
    "        plt.ylabel(\"$x_2$\", rotation=0)\n",
    "    else:\n",
    "        plt.tick_params(labelleft=False)\n",
    "    plt.title(f\"RBF gamma={sc.gamma}\")"
   ]
  },
  {
   "cell_type": "code",
   "execution_count": null,
   "metadata": {
    "colab": {
     "base_uri": "https://localhost:8080/",
     "height": 356
    },
    "id": "ZVfr2kxWZlOV",
    "outputId": "354cd8cc-0c95-4e8a-dfdb-9bb677cebf11"
   },
   "outputs": [],
   "source": [
    "plt.figure(figsize=(9, 3.2))\n",
    "\n",
    "plt.subplot(121)\n",
    "plot_spectral_clustering(sc1, X, size=500, alpha=0.1)\n",
    "\n",
    "plt.subplot(122)\n",
    "plot_spectral_clustering(sc2, X, size=4000, alpha=0.01, show_ylabels=False)\n",
    "\n",
    "plt.show()"
   ]
  },
  {
   "cell_type": "markdown",
   "metadata": {
    "id": "iR4Ie0OjZlOV"
   },
   "source": [
    "### 병합 군집"
   ]
  },
  {
   "cell_type": "code",
   "execution_count": 89,
   "metadata": {
    "id": "pZVbM-yaZlOV"
   },
   "outputs": [],
   "source": [
    "from sklearn.cluster import AgglomerativeClustering"
   ]
  },
  {
   "cell_type": "code",
   "execution_count": 90,
   "metadata": {
    "id": "KA13BV-FZlOW"
   },
   "outputs": [],
   "source": [
    "X = np.array([0, 2, 5, 8.5]).reshape(-1, 1)\n",
    "agg = AgglomerativeClustering(linkage=\"complete\").fit(X)"
   ]
  },
  {
   "cell_type": "code",
   "execution_count": 91,
   "metadata": {
    "id": "VTzv_D0nZlOW"
   },
   "outputs": [],
   "source": [
    "def learned_parameters(estimator):\n",
    "    return [attrib for attrib in dir(estimator)\n",
    "            if attrib.endswith(\"_\") and not attrib.startswith(\"_\")]"
   ]
  },
  {
   "cell_type": "code",
   "execution_count": null,
   "metadata": {
    "colab": {
     "base_uri": "https://localhost:8080/"
    },
    "id": "GBHFbuzQZlOW",
    "outputId": "af6f4490-1fe2-41aa-b913-19817bbe276c"
   },
   "outputs": [],
   "source": [
    "learned_parameters(agg)"
   ]
  },
  {
   "cell_type": "code",
   "execution_count": null,
   "metadata": {
    "colab": {
     "base_uri": "https://localhost:8080/"
    },
    "id": "kOHfdlYeZlOW",
    "outputId": "b8330ff2-ae0c-4b68-b133-6a0bc032b97e",
    "scrolled": true
   },
   "outputs": [],
   "source": [
    "agg.children_"
   ]
  },
  {
   "cell_type": "markdown",
   "metadata": {
    "id": "fWnLYoCDZlOW"
   },
   "source": [
    "# 9.2 가우스 혼합"
   ]
  },
  {
   "cell_type": "markdown",
   "metadata": {
    "id": "7ymFrfI3ZlOW"
   },
   "source": [
    "(K-평균이 문제를 겪었던) 앞서와 동일한 세 개의 타원형 클러스터를 가진 데이터셋을 생성해 보겠습니다:"
   ]
  },
  {
   "cell_type": "code",
   "execution_count": 94,
   "metadata": {
    "id": "BW_1l15mZlOW"
   },
   "outputs": [],
   "source": [
    "X1, y1 = make_blobs(n_samples=1000, centers=((4, -4), (0, 0)), random_state=42)\n",
    "X1 = X1.dot(np.array([[0.374, 0.95], [0.732, 0.598]]))\n",
    "X2, y2 = make_blobs(n_samples=250, centers=1, random_state=42)\n",
    "X2 = X2 + [6, -8]\n",
    "X = np.r_[X1, X2]\n",
    "y = np.r_[y1, y2]"
   ]
  },
  {
   "cell_type": "markdown",
   "metadata": {
    "id": "7UwkUQfOZlOW"
   },
   "source": [
    "이 데이터셋에서 가우스 혼합 모델을 훈련해 보겠습니다:"
   ]
  },
  {
   "cell_type": "code",
   "execution_count": 5,
   "metadata": {
    "id": "Q8hiSZMMZlOX"
   },
   "outputs": [],
   "source": [
    "from sklearn.mixture import GaussianMixture"
   ]
  },
  {
   "cell_type": "code",
   "execution_count": 6,
   "metadata": {
    "colab": {
     "base_uri": "https://localhost:8080/",
     "height": 75
    },
    "id": "21qv-2YvZlOX",
    "outputId": "d6ab9402-b822-4640-d51b-5200bd9c395a"
   },
   "outputs": [
    {
     "ename": "NameError",
     "evalue": "name 'X' is not defined",
     "output_type": "error",
     "traceback": [
      "\u001b[0;31m---------------------------------------------------------------------------\u001b[0m",
      "\u001b[0;31mNameError\u001b[0m                                 Traceback (most recent call last)",
      "Cell \u001b[0;32mIn[6], line 2\u001b[0m\n\u001b[1;32m      1\u001b[0m gm \u001b[38;5;241m=\u001b[39m GaussianMixture(n_components\u001b[38;5;241m=\u001b[39m\u001b[38;5;241m3\u001b[39m, n_init\u001b[38;5;241m=\u001b[39m\u001b[38;5;241m10\u001b[39m, random_state\u001b[38;5;241m=\u001b[39m\u001b[38;5;241m42\u001b[39m)\n\u001b[0;32m----> 2\u001b[0m gm\u001b[38;5;241m.\u001b[39mfit(\u001b[43mX\u001b[49m)\n",
      "\u001b[0;31mNameError\u001b[0m: name 'X' is not defined"
     ]
    }
   ],
   "source": [
    "gm = GaussianMixture(n_components=3, n_init=10, random_state=42)\n",
    "gm.fit(X)"
   ]
  },
  {
   "cell_type": "markdown",
   "metadata": {
    "id": "oMvnU-BNZlOX"
   },
   "source": [
    "EM 알고리즘이 추정하는 파라미터를 살펴보겠습니다:"
   ]
  },
  {
   "cell_type": "code",
   "execution_count": 7,
   "metadata": {
    "colab": {
     "base_uri": "https://localhost:8080/"
    },
    "id": "YEXo0fcqZlOX",
    "outputId": "dba4509c-49d4-4772-a451-3c88aee8213c"
   },
   "outputs": [
    {
     "ename": "AttributeError",
     "evalue": "'GaussianMixture' object has no attribute 'weights_'",
     "output_type": "error",
     "traceback": [
      "\u001b[0;31m---------------------------------------------------------------------------\u001b[0m",
      "\u001b[0;31mAttributeError\u001b[0m                            Traceback (most recent call last)",
      "Cell \u001b[0;32mIn[7], line 1\u001b[0m\n\u001b[0;32m----> 1\u001b[0m \u001b[43mgm\u001b[49m\u001b[38;5;241;43m.\u001b[39;49m\u001b[43mweights_\u001b[49m\n",
      "\u001b[0;31mAttributeError\u001b[0m: 'GaussianMixture' object has no attribute 'weights_'"
     ]
    }
   ],
   "source": [
    "gm.weights_"
   ]
  },
  {
   "cell_type": "code",
   "execution_count": 8,
   "metadata": {
    "colab": {
     "base_uri": "https://localhost:8080/"
    },
    "id": "-beNDUQ7ZlOX",
    "outputId": "2594446b-8b7b-4882-fd38-e022426ea53f"
   },
   "outputs": [
    {
     "ename": "AttributeError",
     "evalue": "'GaussianMixture' object has no attribute 'means_'",
     "output_type": "error",
     "traceback": [
      "\u001b[0;31m---------------------------------------------------------------------------\u001b[0m",
      "\u001b[0;31mAttributeError\u001b[0m                            Traceback (most recent call last)",
      "Cell \u001b[0;32mIn[8], line 1\u001b[0m\n\u001b[0;32m----> 1\u001b[0m \u001b[43mgm\u001b[49m\u001b[38;5;241;43m.\u001b[39;49m\u001b[43mmeans_\u001b[49m\n",
      "\u001b[0;31mAttributeError\u001b[0m: 'GaussianMixture' object has no attribute 'means_'"
     ]
    }
   ],
   "source": [
    "gm.means_"
   ]
  },
  {
   "cell_type": "code",
   "execution_count": null,
   "metadata": {
    "colab": {
     "base_uri": "https://localhost:8080/"
    },
    "id": "f_r2Rx9qZlOX",
    "outputId": "b8e3d477-dca2-4738-d664-8c916dc04ba0"
   },
   "outputs": [],
   "source": [
    "gm.covariances_"
   ]
  },
  {
   "cell_type": "markdown",
   "metadata": {
    "id": "SGWXti8BZlOX"
   },
   "source": [
    "알고리즘이 실제로 수렴했나요?"
   ]
  },
  {
   "cell_type": "code",
   "execution_count": null,
   "metadata": {
    "colab": {
     "base_uri": "https://localhost:8080/"
    },
    "id": "Jso_GmuwZlOX",
    "outputId": "b1995b8f-465b-4004-91df-69658b90dae9"
   },
   "outputs": [],
   "source": [
    "gm.converged_"
   ]
  },
  {
   "cell_type": "markdown",
   "metadata": {
    "id": "R4_jEw1NZlOY"
   },
   "source": [
    "네, 좋아요. 몇 번의 반복이 필요했나요?"
   ]
  },
  {
   "cell_type": "code",
   "execution_count": null,
   "metadata": {
    "colab": {
     "base_uri": "https://localhost:8080/"
    },
    "id": "hJSAkxUYZlOY",
    "outputId": "a8c8ce80-6b30-48f3-c94e-574e169be6dc"
   },
   "outputs": [],
   "source": [
    "gm.n_iter_"
   ]
  },
  {
   "cell_type": "markdown",
   "metadata": {
    "id": "xAQ4OZwwZlOY"
   },
   "source": [
    "이제 모델을 사용하여 각 샘플이 어느 클러스터에 속하는지(하드 클러스터링) 또는 각 클러스터에서 나올 확률을 예측할 수 있습니다. 이를 위해 `predict()` 메서드 또는 `predict_proba()` 메서드를 사용하면 됩니다:"
   ]
  },
  {
   "cell_type": "code",
   "execution_count": null,
   "metadata": {
    "colab": {
     "base_uri": "https://localhost:8080/"
    },
    "id": "xaiWbAZeZlOY",
    "outputId": "20a002d0-b528-430c-8277-d5513a64183c"
   },
   "outputs": [],
   "source": [
    "gm.predict(X)"
   ]
  },
  {
   "cell_type": "code",
   "execution_count": null,
   "metadata": {
    "colab": {
     "base_uri": "https://localhost:8080/"
    },
    "id": "IEZO_s3TZlOY",
    "outputId": "a2f4eb89-7f00-4426-9d21-a54afbc2cb0b"
   },
   "outputs": [],
   "source": [
    "gm.predict_proba(X).round(3)"
   ]
  },
  {
   "cell_type": "markdown",
   "metadata": {
    "id": "2HefCZZyZlOY"
   },
   "source": [
    "이 모델은 생성형 모델이므로 이 모델에서 새 샘플을 샘플링하고 레이블을 가져올 수 있습니다:"
   ]
  },
  {
   "cell_type": "code",
   "execution_count": null,
   "metadata": {
    "colab": {
     "base_uri": "https://localhost:8080/"
    },
    "id": "5dSgAGNqZlOY",
    "outputId": "573f6632-0652-429d-ff6b-1b1cbaee8ccd"
   },
   "outputs": [],
   "source": [
    "X_new, y_new = gm.sample(6)\n",
    "X_new"
   ]
  },
  {
   "cell_type": "code",
   "execution_count": null,
   "metadata": {
    "colab": {
     "base_uri": "https://localhost:8080/"
    },
    "id": "33Sah5aGZlOY",
    "outputId": "a98b9fb7-ac26-4d89-d284-5cfeda17037f"
   },
   "outputs": [],
   "source": [
    "y_new"
   ]
  },
  {
   "cell_type": "markdown",
   "metadata": {
    "id": "0GMQ_G3HZlOZ"
   },
   "source": [
    "각 클러스터에서 순차적으로 샘플링되는 것을 확인할 수 있습니다."
   ]
  },
  {
   "cell_type": "markdown",
   "metadata": {
    "id": "0FCZR8w5ZlOZ"
   },
   "source": [
    "또한 `score_samples()` 메서드를 사용하여 어느 위치에서나 _확률 밀도 함수_(PDF)의 로그를 추정할 수 있습니다:"
   ]
  },
  {
   "cell_type": "code",
   "execution_count": null,
   "metadata": {
    "colab": {
     "base_uri": "https://localhost:8080/"
    },
    "id": "LCx0q3JdZlOZ",
    "outputId": "750a380e-d5c9-48d1-c82c-37af28da7088"
   },
   "outputs": [],
   "source": [
    "gm.score_samples(X).round(2)"
   ]
  },
  {
   "cell_type": "markdown",
   "metadata": {
    "id": "GzZmaDEiZlOZ"
   },
   "source": [
    "PDF가 전체 공간에 걸쳐 1로 통합되는지 확인해 보겠습니다. 클러스터 주위의 큰 정사각형을 작은 정사각형 그리드로 잘라낸 다음 각 작은 정사각형에서 인스턴스가 생성될 대략적인 확률을 계산한 다음(작은 정사각형의 한쪽 모서리에 있는 PDF에 정사각형의 면적을 곱하고 마지막으로 이 모든 확률을 합산합니다), 그 결과를 확인합니다. 결과는 1에 매우 가깝습니다:"
   ]
  },
  {
   "cell_type": "code",
   "execution_count": null,
   "metadata": {
    "colab": {
     "base_uri": "https://localhost:8080/"
    },
    "id": "qE69bHxCZlOZ",
    "outputId": "f4631af1-2294-4494-83b5-7e73d6746500"
   },
   "outputs": [],
   "source": [
    "# 추가 코드 - 보너스 자료\n",
    "\n",
    "resolution = 100\n",
    "grid = np.arange(-10, 10, 1 / resolution)\n",
    "xx, yy = np.meshgrid(grid, grid)\n",
    "X_full = np.vstack([xx.ravel(), yy.ravel()]).T\n",
    "\n",
    "pdf = np.exp(gm.score_samples(X_full))\n",
    "pdf_probas = pdf * (1 / resolution) ** 2\n",
    "pdf_probas.sum()"
   ]
  },
  {
   "cell_type": "markdown",
   "metadata": {
    "id": "MWlbixQsZlOZ"
   },
   "source": [
    "이제 결과 결정 경계(점선)와 밀도 등고선을 그려 보겠습니다:"
   ]
  },
  {
   "cell_type": "code",
   "execution_count": null,
   "metadata": {
    "colab": {
     "base_uri": "https://localhost:8080/",
     "height": 395
    },
    "id": "1ti_OdwaZlOZ",
    "outputId": "930d73ea-1659-45cb-9bef-918f75cc7d11"
   },
   "outputs": [],
   "source": [
    "# 추가 코드 - 이 셀은 그림 9-16을 생성하고 저장합니다.\n",
    "\n",
    "from matplotlib.colors import LogNorm\n",
    "\n",
    "def plot_gaussian_mixture(clusterer, X, resolution=1000, show_ylabels=True):\n",
    "    mins = X.min(axis=0) - 0.1\n",
    "    maxs = X.max(axis=0) + 0.1\n",
    "    xx, yy = np.meshgrid(np.linspace(mins[0], maxs[0], resolution),\n",
    "                         np.linspace(mins[1], maxs[1], resolution))\n",
    "    Z = -clusterer.score_samples(np.c_[xx.ravel(), yy.ravel()])\n",
    "    Z = Z.reshape(xx.shape)\n",
    "\n",
    "    plt.contourf(xx, yy, Z,\n",
    "                 norm=LogNorm(vmin=1.0, vmax=30.0),\n",
    "                 levels=np.logspace(0, 2, 12))\n",
    "    plt.contour(xx, yy, Z,\n",
    "                norm=LogNorm(vmin=1.0, vmax=30.0),\n",
    "                levels=np.logspace(0, 2, 12),\n",
    "                linewidths=1, colors='k')\n",
    "\n",
    "    Z = clusterer.predict(np.c_[xx.ravel(), yy.ravel()])\n",
    "    Z = Z.reshape(xx.shape)\n",
    "    plt.contour(xx, yy, Z,\n",
    "                linewidths=2, colors='r', linestyles='dashed')\n",
    "\n",
    "    plt.plot(X[:, 0], X[:, 1], 'k.', markersize=2)\n",
    "    plot_centroids(clusterer.means_, clusterer.weights_)\n",
    "\n",
    "    plt.xlabel(\"$x_1$\")\n",
    "    if show_ylabels:\n",
    "        plt.ylabel(\"$x_2$\", rotation=0)\n",
    "    else:\n",
    "        plt.tick_params(labelleft=False)\n",
    "\n",
    "plt.figure(figsize=(8, 4))\n",
    "\n",
    "plot_gaussian_mixture(gm, X)\n",
    "\n",
    "save_fig(\"gaussian_mixtures_plot\")\n",
    "plt.show()"
   ]
  },
  {
   "cell_type": "markdown",
   "metadata": {
    "id": "fh1Re9mrZlOa"
   },
   "source": [
    "`covariance_type` 하이퍼파라미터를 설정하여 알고리즘이 찾는 공분산 행렬에 제약 조건을 적용할 수 있습니다:\n",
    "* `\"spherical\"`: 모든 클러스터는 구형이어야 하지만 직경이 다를 수 있습니다(즉, 분산이 다를 수 있음).\n",
    "* `\"diag\"`: 클러스터는 모든 크기의 타원형 모양을 취할 수 있지만 타원의 축은 축과 평행해야 합니다(즉, 공분산 행렬이 대각선이어야 함).\n",
    "* `\"tied\"`: 모든 클러스터는 동일한 모양을 가져야 하며, 이는 타원체일 수 있습니다(즉, 모두 동일한 공분산 행렬을 공유해야 함).\n",
    "* `\"full\"` (기본값): 제약 없이 모든 클러스터는 모든 크기의 타원형 모양을 취할 수 있습니다."
   ]
  },
  {
   "cell_type": "code",
   "execution_count": null,
   "metadata": {
    "colab": {
     "base_uri": "https://localhost:8080/",
     "height": 395
    },
    "id": "JbcNhDufZlOa",
    "outputId": "fd81adc5-5026-43a0-d7b6-4ab56df4c8e1"
   },
   "outputs": [],
   "source": [
    "# 추가 코드 - 이 셀은 그림 9-17을 생성하고 저장합니다.\n",
    "\n",
    "gm_full = GaussianMixture(n_components=3, n_init=10,\n",
    "                          covariance_type=\"full\", random_state=42)\n",
    "gm_tied = GaussianMixture(n_components=3, n_init=10,\n",
    "                          covariance_type=\"tied\", random_state=42)\n",
    "gm_spherical = GaussianMixture(n_components=3, n_init=10,\n",
    "                               covariance_type=\"spherical\", random_state=42)\n",
    "gm_diag = GaussianMixture(n_components=3, n_init=10,\n",
    "                          covariance_type=\"diag\", random_state=42)\n",
    "gm_full.fit(X)\n",
    "gm_tied.fit(X)\n",
    "gm_spherical.fit(X)\n",
    "gm_diag.fit(X)\n",
    "\n",
    "def compare_gaussian_mixtures(gm1, gm2, X):\n",
    "    plt.figure(figsize=(9, 4))\n",
    "\n",
    "    plt.subplot(121)\n",
    "    plot_gaussian_mixture(gm1, X)\n",
    "    plt.title(f'covariance_type=\"{gm1.covariance_type}\"')\n",
    "\n",
    "    plt.subplot(122)\n",
    "    plot_gaussian_mixture(gm2, X, show_ylabels=False)\n",
    "    plt.title(f'covariance_type=\"{gm2.covariance_type}\"')\n",
    "\n",
    "compare_gaussian_mixtures(gm_tied, gm_spherical, X)\n",
    "\n",
    "save_fig(\"covariance_type_plot\")\n",
    "plt.show()"
   ]
  },
  {
   "cell_type": "code",
   "execution_count": null,
   "metadata": {
    "colab": {
     "base_uri": "https://localhost:8080/",
     "height": 395
    },
    "id": "D1pKPf8XZlOa",
    "outputId": "70a389ed-83b3-41a6-c4e3-2de6af9d6f97"
   },
   "outputs": [],
   "source": [
    "# 추가 코드 - covariance_type=\"full\"과 covariance_type=\"diag\" 비교\n",
    "compare_gaussian_mixtures(gm_full, gm_diag, X)\n",
    "plt.tight_layout()\n",
    "plt.show()"
   ]
  },
  {
   "cell_type": "markdown",
   "metadata": {
    "id": "GBPlRe29ZlOa"
   },
   "source": [
    "## 9.2.1 가우스 혼합을 사용한 이상치 탐지"
   ]
  },
  {
   "cell_type": "markdown",
   "metadata": {
    "id": "VZ3xH57zZlOa"
   },
   "source": [
    "가우스 혼합은 _이상치 탐지_에 사용할 수 있습니다: 저밀도 영역에 위치한 샘플을 이상치로 간주할 수 있습니다. 사용하려는 밀도 임계값을 정의해야 합니다. 예를 들어, 결함이 있는 제품을 감지하려는 제조 회사에서는 일반적으로 결함이 있는 제품의 비율을 잘 알고 있습니다. 이 비율이 2%라고 가정하면, 임계값 밀도 아래에 있는 샘플이 2%가 되도록 하는 값으로 밀도 임계값을 설정할 수 있습니다:"
   ]
  },
  {
   "cell_type": "code",
   "execution_count": 111,
   "metadata": {
    "id": "yONrJdwOZlOa"
   },
   "outputs": [],
   "source": [
    "densities = gm.score_samples(X)\n",
    "density_threshold = np.percentile(densities, 2)\n",
    "anomalies = X[densities < density_threshold]"
   ]
  },
  {
   "cell_type": "code",
   "execution_count": null,
   "metadata": {
    "colab": {
     "base_uri": "https://localhost:8080/",
     "height": 395
    },
    "id": "0jdKjEOGZlOa",
    "outputId": "0f1b6d83-78d3-4fa6-99bd-6168b275e7e6"
   },
   "outputs": [],
   "source": [
    "# 추가 코드 - 이 셀은 그림 9-18을 생성하고 저장합니다.\n",
    "\n",
    "plt.figure(figsize=(8, 4))\n",
    "\n",
    "plot_gaussian_mixture(gm, X)\n",
    "plt.scatter(anomalies[:, 0], anomalies[:, 1], color='r', marker='*')\n",
    "plt.ylim(top=5.1)\n",
    "\n",
    "save_fig(\"mixture_anomaly_detection_plot\")\n",
    "plt.show()"
   ]
  },
  {
   "cell_type": "markdown",
   "metadata": {
    "id": "bqc8l0M-ZlOa"
   },
   "source": [
    "## 9.2.2 클러스터 수 선택하기"
   ]
  },
  {
   "cell_type": "markdown",
   "metadata": {
    "id": "_yTv3wETZlOa"
   },
   "source": [
    "이너셔 또는 실루엣 점수는 모두 클러스터가 구형이라고 가정하기 때문에 사용할 수 없습니다. 대신 BIC 또는 AIC와 같은 이론적 정보 기준을 최소화하는 모델을 찾을 수 있습니다:\n",
    "${BIC} = {\\log(m)p - 2\\log({\\hat L})}$\n",
    "\n",
    "${AIC} = 2p - 2\\log(\\hat L)$\n",
    "\n",
    "* $m$은 샘플 수입니다.\n",
    "* $p$는 모델에서 학습한 파라미터의 수입니다.\n",
    "* $L$은 모델의 가능도 함수의 최대값입니다. 이것은 모델과 최적화된 파라미터가 주어졌을 때 관찰된 데이터 $\\mathbf{X}$의 조건부 확률입니다.\n",
    "\n",
    "BIC와 AIC는 모두 학습할 파라미터가 많은 모델(예: 더 많은 클러스터)에 불이익을 주고, 데이터에 잘 맞는 모델(예: 관찰된 데이터에 높은 가능성을 부여하는 모델)에 보상을 줍니다."
   ]
  },
  {
   "cell_type": "code",
   "execution_count": null,
   "metadata": {
    "colab": {
     "base_uri": "https://localhost:8080/",
     "height": 445
    },
    "id": "nH1UvsKvZlOb",
    "outputId": "da05c1bd-493a-4a02-c474-9a6a7f568671"
   },
   "outputs": [],
   "source": [
    "# 추가 코드 - 이 셀은 그림 9-19를 생성하고 저장합니다.\n",
    "\n",
    "from scipy.stats import norm\n",
    "\n",
    "x_val = 2.5\n",
    "std_val = 1.3\n",
    "x_range = [-6, 4]\n",
    "x_proba_range = [-2, 2]\n",
    "stds_range = [1, 2]\n",
    "\n",
    "xs = np.linspace(x_range[0], x_range[1], 501)\n",
    "stds = np.linspace(stds_range[0], stds_range[1], 501)\n",
    "Xs, Stds = np.meshgrid(xs, stds)\n",
    "Z = 2 * norm.pdf(Xs - 1.0, 0, Stds) + norm.pdf(Xs + 4.0, 0, Stds)\n",
    "Z = Z / Z.sum(axis=1)[:, np.newaxis] / (xs[1] - xs[0])\n",
    "\n",
    "x_example_idx = (xs >= x_val).argmax()  # x_val보다 크거나 같은 첫 번째 값의 인덱스\n",
    "max_idx = Z[:, x_example_idx].argmax()\n",
    "max_val = Z[:, x_example_idx].max()\n",
    "s_example_idx = (stds >= std_val).argmax()\n",
    "x_range_min_idx = (xs >= x_proba_range[0]).argmax()\n",
    "x_range_max_idx = (xs >= x_proba_range[1]).argmax()\n",
    "log_max_idx = np.log(Z[:, x_example_idx]).argmax()\n",
    "log_max_val = np.log(Z[:, x_example_idx]).max()\n",
    "\n",
    "plt.figure(figsize=(8, 4.5))\n",
    "\n",
    "plt.subplot(2, 2, 1)\n",
    "plt.contourf(Xs, Stds, Z, cmap=\"GnBu\")\n",
    "plt.plot([-6, 4], [std_val, std_val], \"k-\", linewidth=2)\n",
    "plt.plot([x_val, x_val], [1, 2], \"b-\", linewidth=2)\n",
    "plt.ylabel(r\"$\\theta$\", rotation=0, labelpad=10)\n",
    "plt.title(r\"모델 $f(x; \\theta)$\")\n",
    "\n",
    "plt.subplot(2, 2, 2)\n",
    "plt.plot(stds, Z[:, x_example_idx], \"b-\")\n",
    "plt.plot(stds[max_idx], max_val, \"r.\")\n",
    "plt.plot([stds[max_idx], stds[max_idx]], [0, max_val], \"r:\")\n",
    "plt.plot([0, stds[max_idx]], [max_val, max_val], \"r:\")\n",
    "plt.text(stds[max_idx]+ 0.01, 0.081, r\"$\\hat{\\theta}$\")\n",
    "plt.text(stds[max_idx]+ 0.01, max_val - 0.006, r\"$Max$\")\n",
    "plt.text(1.01, max_val - 0.008, r\"$\\hat{\\mathcal{L}}$\")\n",
    "plt.ylabel(r\"$\\mathcal{L}$\", rotation=0, labelpad=10)\n",
    "plt.title(fr\"$\\mathcal{{L}}(\\theta|x={x_val}) = f(x={x_val}; \\theta)$\")\n",
    "plt.grid()\n",
    "plt.axis([1, 2, 0.08, 0.12])\n",
    "\n",
    "plt.subplot(2, 2, 3)\n",
    "plt.plot(xs, Z[s_example_idx], \"k-\")\n",
    "plt.fill_between(xs[x_range_min_idx:x_range_max_idx+1],\n",
    "                 Z[s_example_idx, x_range_min_idx:x_range_max_idx+1], alpha=0.2)\n",
    "plt.xlabel(r\"$x$\")\n",
    "plt.ylabel(\"PDF\")\n",
    "plt.title(fr\"PDF $f(x; \\theta={std_val})$\")\n",
    "plt.grid()\n",
    "plt.axis([-6, 4, 0, 0.25])\n",
    "\n",
    "plt.subplot(2, 2, 4)\n",
    "plt.plot(stds, np.log(Z[:, x_example_idx]), \"b-\")\n",
    "plt.plot(stds[log_max_idx], log_max_val, \"r.\")\n",
    "plt.plot([stds[log_max_idx], stds[log_max_idx]], [-5, log_max_val], \"r:\")\n",
    "plt.plot([0, stds[log_max_idx]], [log_max_val, log_max_val], \"r:\")\n",
    "plt.text(stds[log_max_idx]+ 0.01, log_max_val - 0.06, r\"$Max$\")\n",
    "plt.text(stds[log_max_idx]+ 0.01, -2.49, r\"$\\hat{\\theta}$\")\n",
    "plt.text(1.01, log_max_val - 0.08, r\"$\\log \\, \\hat{\\mathcal{L}}$\")\n",
    "plt.xlabel(r\"$\\theta$\")\n",
    "plt.ylabel(r\"$\\log\\mathcal{L}$\", rotation=0, labelpad=10)\n",
    "plt.title(fr\"$\\log \\, \\mathcal{{L}}(\\theta|x={x_val})$\")\n",
    "plt.grid()\n",
    "plt.axis([1, 2, -2.5, -2.1])\n",
    "\n",
    "save_fig(\"likelihood_function_plot\")\n",
    "plt.show()"
   ]
  },
  {
   "cell_type": "code",
   "execution_count": null,
   "metadata": {
    "colab": {
     "base_uri": "https://localhost:8080/"
    },
    "id": "-8WeYX0_ZlOb",
    "outputId": "67016255-f852-46d8-aa50-0ea172e202b3"
   },
   "outputs": [],
   "source": [
    "gm.bic(X)"
   ]
  },
  {
   "cell_type": "code",
   "execution_count": null,
   "metadata": {
    "colab": {
     "base_uri": "https://localhost:8080/"
    },
    "id": "97Rq06UbZlOb",
    "outputId": "8d868eab-c70b-4bc6-bb4f-e727ca394c0c"
   },
   "outputs": [],
   "source": [
    "gm.aic(X)"
   ]
  },
  {
   "cell_type": "markdown",
   "metadata": {
    "id": "9DS5aRDWZlOb"
   },
   "source": [
    "수동으로 BIC를 계산할 수 있습니다:"
   ]
  },
  {
   "cell_type": "code",
   "execution_count": null,
   "metadata": {
    "colab": {
     "base_uri": "https://localhost:8080/"
    },
    "id": "5KgOLHFVZlOb",
    "outputId": "fd70ae55-fdb0-44b0-fd3d-acb1563514cc"
   },
   "outputs": [],
   "source": [
    "# 추가 코드 - 보너스 자료\n",
    "n_clusters = 3\n",
    "n_dims = 2\n",
    "n_params_for_weights = n_clusters - 1\n",
    "n_params_for_means = n_clusters * n_dims\n",
    "n_params_for_covariance = n_clusters * n_dims * (n_dims + 1) // 2\n",
    "n_params = n_params_for_weights + n_params_for_means + n_params_for_covariance\n",
    "max_log_likelihood = gm.score(X) * len(X) # log(L^)\n",
    "bic = np.log(len(X)) * n_params - 2 * max_log_likelihood\n",
    "aic = 2 * n_params - 2 * max_log_likelihood\n",
    "print(f\"bic = {bic}\")\n",
    "print(f\"aic = {aic}\")\n",
    "print(f\"n_params = {n_params}\")"
   ]
  },
  {
   "cell_type": "markdown",
   "metadata": {
    "id": "3vtc3kz-ZlOb"
   },
   "source": [
    "클러스터당 가중치는 하나이지만 합은 1과 같아야 하므로 자유도가 하나 적고 따라서 1을 뺍니다. 마찬가지로, $n \\times n$ 공분산 행렬의 자유도는 $n^2$가 아니라 $1 + 2 + \\dots + n = \\dfrac{n (n+1)}{2}$입니다."
   ]
  },
  {
   "cell_type": "markdown",
   "metadata": {
    "id": "RzocGE6RZlOb"
   },
   "source": [
    "다양한 값의 $k$로 가우시안 혼합 모델을 훈련하고 BIC를 측정해 보겠습니다:"
   ]
  },
  {
   "cell_type": "code",
   "execution_count": null,
   "metadata": {
    "colab": {
     "base_uri": "https://localhost:8080/",
     "height": 295
    },
    "id": "AzYVcdm2ZlOb",
    "outputId": "ef524914-8b83-463c-9835-3fedf506a86c"
   },
   "outputs": [],
   "source": [
    "# 추가 코드 - 이 셀은 그림 9-20을 생성하고 저장합니다.\n",
    "\n",
    "gms_per_k = [GaussianMixture(n_components=k, n_init=10, random_state=42).fit(X)\n",
    "             for k in range(1, 11)]\n",
    "bics = [model.bic(X) for model in gms_per_k]\n",
    "aics = [model.aic(X) for model in gms_per_k]\n",
    "\n",
    "plt.figure(figsize=(8, 3))\n",
    "plt.plot(range(1, 11), bics, \"bo-\", label=\"BIC\")\n",
    "plt.plot(range(1, 11), aics, \"go--\", label=\"AIC\")\n",
    "plt.xlabel(\"$k$\")\n",
    "plt.ylabel(\"정보 조건\")\n",
    "plt.axis([1, 9.5, min(aics) - 50, max(aics) + 50])\n",
    "plt.annotate(\"\", xy=(3, bics[2]), xytext=(3.4, 8650),\n",
    "             arrowprops=dict(facecolor='black', shrink=0.1))\n",
    "plt.text(3.5, 8660, \"최소\", horizontalalignment=\"center\")\n",
    "plt.legend()\n",
    "plt.grid()\n",
    "save_fig(\"aic_bic_vs_k_plot\")\n",
    "plt.show()"
   ]
  },
  {
   "cell_type": "markdown",
   "metadata": {
    "id": "Yrucnxt5ZlOc"
   },
   "source": [
    "## 9.2.3 베이즈 가우스 혼합 모델"
   ]
  },
  {
   "cell_type": "markdown",
   "metadata": {
    "id": "dEDv9NwaZlOc"
   },
   "source": [
    "최적의 클러스터 수를 수동으로 검색하는 대신 불필요한 클러스터의 가중치를 0으로 (또는 0에 가깝게) 부여할 수 있는 `BayesianGaussianMixture` 클래스를 사용할 수 있습니다. 성분 개수를 최적의 클러스터 수보다 큰 값으로 설정하기만 하면 알고리즘이 불필요한 클러스터를 자동으로 제거합니다."
   ]
  },
  {
   "cell_type": "code",
   "execution_count": null,
   "metadata": {
    "colab": {
     "base_uri": "https://localhost:8080/"
    },
    "id": "KT1gY10BZlOc",
    "outputId": "ac55ad9f-6b79-4264-b93d-f222810ffd17"
   },
   "outputs": [],
   "source": [
    "from sklearn.mixture import BayesianGaussianMixture\n",
    "\n",
    "# ..."
   ]
  },
  {
   "cell_type": "markdown",
   "metadata": {
    "id": "i8cG_3CvZlOc"
   },
   "source": [
    "알고리즘이 자동으로 3개의 성분만 필요하다는 것을 감지했습니다!"
   ]
  },
  {
   "cell_type": "code",
   "execution_count": null,
   "metadata": {
    "colab": {
     "base_uri": "https://localhost:8080/",
     "height": 471
    },
    "id": "D8LLGiw3ZlOc",
    "outputId": "af93c89c-07d1-4325-fa32-0fef963cf29a"
   },
   "outputs": [],
   "source": [
    "# 추가 코드 - 이 그림은 그림 9-16과 거의 동일합니다.\n",
    "plt.figure(figsize=(8, 5))\n",
    "plot_gaussian_mixture(bgm, X)\n",
    "plt.show()"
   ]
  },
  {
   "cell_type": "code",
   "execution_count": null,
   "metadata": {
    "colab": {
     "base_uri": "https://localhost:8080/",
     "height": 315
    },
    "id": "h_9RemKVZlOc",
    "outputId": "b6cd9def-4592-4f9b-babe-7752d3a9c67e"
   },
   "outputs": [],
   "source": [
    "# 추가 코드 - 이 셀은 그림 9-21을 생성하고 저장합니다.\n",
    "\n",
    "X_moons, y_moons = make_moons(n_samples=1000, noise=0.05, random_state=42)\n",
    "\n",
    "bgm = BayesianGaussianMixture(n_components=10, n_init=10, random_state=42)\n",
    "bgm.fit(X_moons)\n",
    "\n",
    "plt.figure(figsize=(9, 3.2))\n",
    "\n",
    "plt.subplot(121)\n",
    "plot_data(X_moons)\n",
    "plt.xlabel(\"$x_1$\")\n",
    "plt.ylabel(\"$x_2$\", rotation=0)\n",
    "plt.grid()\n",
    "\n",
    "plt.subplot(122)\n",
    "plot_gaussian_mixture(bgm, X_moons, show_ylabels=False)\n",
    "\n",
    "save_fig(\"moons_vs_bgm_plot\")\n",
    "plt.show()"
   ]
  },
  {
   "cell_type": "markdown",
   "metadata": {
    "id": "PtnxF3GWZlOc"
   },
   "source": [
    "웁스, 좋지 않습니다... 알고리즘이 2개의 달 모양 클러스터를 감지하는 대신 8개의 타원형 클러스터를 감지했습니다. 그러나 밀도 플롯이 너무 나쁘지 않으므로 이상치 탐지에 사용할 수 있습니다."
   ]
  },
  {
   "cell_type": "markdown",
   "metadata": {
    "id": "xI_q1mH3ZlOc"
   },
   "source": [
    "# 연습문제 해답"
   ]
  },
  {
   "cell_type": "markdown",
   "metadata": {
    "id": "JRRoYuAaZlOc"
   },
   "source": [
    "## 1. to 9."
   ]
  },
  {
   "cell_type": "markdown",
   "metadata": {
    "id": "hS54ZRBSZlOc"
   },
   "source": [
    "부록 A 참조"
   ]
  },
  {
   "cell_type": "markdown",
   "metadata": {
    "id": "7Ui6K1cOZlOc"
   },
   "source": [
    "## 10. 올리베티 얼굴 데이터셋에 군집 적용하기"
   ]
  },
  {
   "cell_type": "markdown",
   "metadata": {
    "id": "tR5iqOHUZlOd"
   },
   "source": [
    "*문제: 전통적인 올리베티 얼굴 데이터셋은 64×64 픽셀 크기의 흑백 얼굴 이미지 400개를 담고 있습니다. 각 이미지는 4,096 크기의 1D 벡터로 펼쳐져 있습니다. 사람 40명의 사진을 10장씩 찍은 것입니다. 어떤 사람의 사진인지 예측하는 모델을 훈련하는 것이 일반적입니다. `sklearn.datasets.fetch_olivetti_faces()` 함수를 사용해 데이터셋을 불러오세요.*"
   ]
  },
  {
   "cell_type": "code",
   "execution_count": null,
   "metadata": {
    "colab": {
     "base_uri": "https://localhost:8080/"
    },
    "id": "DH4IbHyeZlOd",
    "outputId": "5be7c55a-89db-4f0f-e745-e8832f3c87bd"
   },
   "outputs": [],
   "source": [
    "from sklearn.datasets import fetch_olivetti_faces\n",
    "\n",
    "olivetti = fetch_olivetti_faces()"
   ]
  },
  {
   "cell_type": "code",
   "execution_count": null,
   "metadata": {
    "colab": {
     "base_uri": "https://localhost:8080/"
    },
    "id": "Kn3t7bW2ZlOd",
    "outputId": "7cd1ff0f-e3fb-4587-c090-bb12c7d8ead4"
   },
   "outputs": [],
   "source": [
    "print(olivetti.DESCR)"
   ]
  },
  {
   "cell_type": "code",
   "execution_count": null,
   "metadata": {
    "colab": {
     "base_uri": "https://localhost:8080/"
    },
    "id": "mrkLwRUwZlOd",
    "outputId": "7da24416-02f1-4143-dae9-1782e3d9116c"
   },
   "outputs": [],
   "source": [
    "olivetti.target"
   ]
  },
  {
   "cell_type": "markdown",
   "metadata": {
    "id": "P-YWnKj6ZlOd"
   },
   "source": [
    "*문제:  훈련 세트, 검증 세트, 테스트 세트로 나눕니다(이 데이터셋은 이미 0에서 1 사이로 스케일이 조정되어 있습니다). 이 데이터셋은 매우 작으니 계층적 샘플링을 사용해 각 세트에 동일한 사람의 얼굴이 고루 섞이도록 하는 것이 좋습니다.*"
   ]
  },
  {
   "cell_type": "code",
   "execution_count": 124,
   "metadata": {
    "id": "aGExcWLjZlOd"
   },
   "outputs": [],
   "source": [
    "from sklearn.model_selection import StratifiedShuffleSplit\n",
    "\n",
    "strat_split = StratifiedShuffleSplit(n_splits=1, test_size=40, random_state=42)\n",
    "train_valid_idx, test_idx = next(strat_split.split(olivetti.data,\n",
    "                                                   olivetti.target))\n",
    "X_train_valid = olivetti.data[train_valid_idx]\n",
    "y_train_valid = olivetti.target[train_valid_idx]\n",
    "X_test = olivetti.data[test_idx]\n",
    "y_test = olivetti.target[test_idx]\n",
    "\n",
    "strat_split = StratifiedShuffleSplit(n_splits=1, test_size=80, random_state=43)\n",
    "train_idx, valid_idx = next(strat_split.split(X_train_valid, y_train_valid))\n",
    "X_train = X_train_valid[train_idx]\n",
    "y_train = y_train_valid[train_idx]\n",
    "X_valid = X_train_valid[valid_idx]\n",
    "y_valid = y_train_valid[valid_idx]"
   ]
  },
  {
   "cell_type": "code",
   "execution_count": null,
   "metadata": {
    "colab": {
     "base_uri": "https://localhost:8080/"
    },
    "id": "YBryLTLLZlOd",
    "outputId": "b39b6faa-54cd-45c8-95de-cd252be93d5e"
   },
   "outputs": [],
   "source": [
    "print(X_train.shape, y_train.shape)\n",
    "print(X_valid.shape, y_valid.shape)\n",
    "print(X_test.shape, y_test.shape)"
   ]
  },
  {
   "cell_type": "markdown",
   "metadata": {
    "id": "6c2PYA7NZlOd"
   },
   "source": [
    "작업 속도를 높이기 위해 PCA를 사용하여 데이터의 차원을 줄입니다:"
   ]
  },
  {
   "cell_type": "code",
   "execution_count": null,
   "metadata": {
    "colab": {
     "base_uri": "https://localhost:8080/"
    },
    "id": "wOydjRwuZlOd",
    "outputId": "3d097235-da69-4aa3-a169-17628a048be8"
   },
   "outputs": [],
   "source": [
    "from sklearn.decomposition import PCA\n",
    "\n",
    "pca = PCA(0.99)\n",
    "X_train_pca = pca.fit_transform(X_train)\n",
    "X_valid_pca = pca.transform(X_valid)\n",
    "X_test_pca = pca.transform(X_test)\n",
    "\n",
    "pca.n_components_"
   ]
  },
  {
   "cell_type": "markdown",
   "metadata": {
    "id": "JccvWszwZlOd"
   },
   "source": [
    "*문제: 그다음 k-평균을 사용해 이미지를 군집해보세요. (이 장에서 소개한 기법 중 하나를 사용해) 적절한 클러스터 개수를 찾아보세요.*"
   ]
  },
  {
   "cell_type": "code",
   "execution_count": null,
   "metadata": {
    "colab": {
     "base_uri": "https://localhost:8080/"
    },
    "id": "6Zfni2dcZlOe",
    "outputId": "8af11a1e-92eb-4ef4-efa3-43ab06cca985"
   },
   "outputs": [],
   "source": [
    "from sklearn.cluster import KMeans\n",
    "\n",
    "k_range = range(5, 150, 5)\n",
    "kmeans_per_k = []\n",
    "for k in k_range:\n",
    "    print(f\"k={k}\")\n",
    "    kmeans = KMeans(n_clusters=k, n_init=10, random_state=42)\n",
    "    kmeans.fit(X_train_pca)\n",
    "    kmeans_per_k.append(kmeans)"
   ]
  },
  {
   "cell_type": "code",
   "execution_count": null,
   "metadata": {
    "colab": {
     "base_uri": "https://localhost:8080/",
     "height": 317
    },
    "id": "UaU94n_gZlOe",
    "outputId": "aa53b207-adcc-4574-a166-b7ae77a9edb5"
   },
   "outputs": [],
   "source": [
    "from sklearn.metrics import silhouette_score\n",
    "\n",
    "silhouette_scores = [silhouette_score(X_train_pca, model.labels_)\n",
    "                     for model in kmeans_per_k]\n",
    "best_index = np.argmax(silhouette_scores)\n",
    "best_k = k_range[best_index]\n",
    "best_score = silhouette_scores[best_index]\n",
    "\n",
    "plt.figure(figsize=(8, 3))\n",
    "plt.plot(k_range, silhouette_scores, \"bo-\")\n",
    "plt.xlabel(\"$k$\")\n",
    "plt.ylabel(\"Silhouette score\")\n",
    "plt.plot(best_k, best_score, \"rs\")\n",
    "plt.grid()\n",
    "plt.show()"
   ]
  },
  {
   "cell_type": "code",
   "execution_count": null,
   "metadata": {
    "colab": {
     "base_uri": "https://localhost:8080/"
    },
    "id": "H_4Btvg0ZlOe",
    "outputId": "5b1f924c-ed4a-45e6-be91-cde27db7235a"
   },
   "outputs": [],
   "source": [
    "best_k"
   ]
  },
  {
   "cell_type": "markdown",
   "metadata": {
    "id": "krflSFOsZlOe"
   },
   "source": [
    "최고 클러스터 수가 120개로 상당히 많은 것 같습니다. 사진에 40명의 다른 사람이 있기 때문에 40명일 것으로 예상했을 수도 있습니다. 그러나 같은 사람이라도 안경을 착용했거나 착용하지 않았거나 단순히 왼쪽이나 오른쪽으로 이동하는 등 사진에 따라 상당히 다르게 보일 수 있습니다."
   ]
  },
  {
   "cell_type": "code",
   "execution_count": null,
   "metadata": {
    "colab": {
     "base_uri": "https://localhost:8080/",
     "height": 355
    },
    "id": "R3Ni_SBeZlOe",
    "outputId": "6fd96232-25f5-4ea3-e115-d3122279f96c"
   },
   "outputs": [],
   "source": [
    "inertias = [model.inertia_ for model in kmeans_per_k]\n",
    "best_inertia = inertias[best_index]\n",
    "\n",
    "plt.figure(figsize=(8, 3.5))\n",
    "plt.plot(k_range, inertias, \"bo-\")\n",
    "plt.xlabel(\"$k$\")\n",
    "plt.ylabel(\"Inertia\")\n",
    "plt.plot(best_k, best_inertia, \"rs\")\n",
    "plt.grid()\n",
    "plt.show()"
   ]
  },
  {
   "cell_type": "markdown",
   "metadata": {
    "id": "p-nP7rUWZlOe"
   },
   "source": [
    "이 이너셔 그래프에는 뚜렷한 엘보가 없기 때문에 최적의 클러스터 수가 명확하지 않으므로 k=120을 그대로 사용하겠습니다."
   ]
  },
  {
   "cell_type": "code",
   "execution_count": 131,
   "metadata": {
    "id": "Kmp_JiHsZlOe"
   },
   "outputs": [],
   "source": [
    "best_model = kmeans_per_k[best_index]"
   ]
  },
  {
   "cell_type": "markdown",
   "metadata": {
    "id": "pUTDgvqRZlOe"
   },
   "source": [
    "*문제: 클러스터를 시각화해 보세요. 각 클러스터에 비슷한 얼굴이 들어 있나요?*"
   ]
  },
  {
   "cell_type": "code",
   "execution_count": null,
   "metadata": {
    "colab": {
     "base_uri": "https://localhost:8080/",
     "height": 1000
    },
    "id": "7bqjMSskZlOe",
    "outputId": "9e2b72e5-8b70-4994-b581-f2be68414f36"
   },
   "outputs": [],
   "source": [
    "def plot_faces(faces, labels, n_cols=5):\n",
    "    faces = faces.reshape(-1, 64, 64)\n",
    "    n_rows = (len(faces) - 1) // n_cols + 1\n",
    "    plt.figure(figsize=(n_cols, n_rows * 1.1))\n",
    "    for index, (face, label) in enumerate(zip(faces, labels)):\n",
    "        plt.subplot(n_rows, n_cols, index + 1)\n",
    "        plt.imshow(face, cmap=\"gray\")\n",
    "        plt.axis(\"off\")\n",
    "        plt.title(label)\n",
    "    plt.show()\n",
    "\n",
    "for cluster_id in np.unique(best_model.labels_):\n",
    "    print(\"Cluster\", cluster_id)\n",
    "    in_cluster = best_model.labels_==cluster_id\n",
    "    faces = X_train[in_cluster]\n",
    "    labels = y_train[in_cluster]\n",
    "    plot_faces(faces, labels)"
   ]
  },
  {
   "cell_type": "markdown",
   "metadata": {
    "id": "C3_dJDzHZlOf"
   },
   "source": [
    "약 2/3 정도의 클러스터가 유용합니다. 즉, 적어도 2개 이상 포함되어 있고 모두 동일한 사람입니다. 그러나 나머지 클러스터에는 다른 사람 얼굴이 하나 이상 있거나 한 장의 사진만 있습니다.\n",
    "\n",
    "이러한 방식으로 이미지를 클러스터링하는 것은 너무 부정확하여 모델을 훈련할 때 직접적으로 유용하지는 않지만(아래에서 살펴보겠지만), 새 데이터셋에서 이미지에 레이블을 지정할 때 매우 유용할 수 있습니다. 일반적으로 레이블을 훨씬 빠르게 지정할 수 있습니다."
   ]
  },
  {
   "cell_type": "markdown",
   "metadata": {
    "id": "bg2JUzSNZlOf"
   },
   "source": [
    "## 11. 분류를 위해 군집으로 전처리하기"
   ]
  },
  {
   "cell_type": "markdown",
   "metadata": {
    "id": "gxHw8NSJZlOf"
   },
   "source": [
    "*문제: 올리베티 얼굴 데이터셋으로 계속해보겠습니다. 사진에 나타난 사람을 예측하는 분류기를 훈련하고 검증 세트에서 평가해보세요.*"
   ]
  },
  {
   "cell_type": "code",
   "execution_count": null,
   "metadata": {
    "colab": {
     "base_uri": "https://localhost:8080/"
    },
    "id": "4Gl4rWhiZlOf",
    "outputId": "c2df3741-de67-4035-80b2-0329d79fb239"
   },
   "outputs": [],
   "source": [
    "from sklearn.ensemble import RandomForestClassifier\n",
    "\n",
    "clf = RandomForestClassifier(n_estimators=150, random_state=42)\n",
    "clf.fit(X_train_pca, y_train)\n",
    "clf.score(X_valid_pca, y_valid)"
   ]
  },
  {
   "cell_type": "markdown",
   "metadata": {
    "id": "SBrlvIXRZlOf"
   },
   "source": [
    "*문제: 그다음 k-평균을 차원 축소 도구로 사용하여 축소된 세트에서 분류기를 훈련해보세요.*"
   ]
  },
  {
   "cell_type": "code",
   "execution_count": null,
   "metadata": {
    "colab": {
     "base_uri": "https://localhost:8080/"
    },
    "id": "nwC5oCI5ZlOf",
    "outputId": "5f2bc6d9-5b22-4797-e06b-3a1829b17a96"
   },
   "outputs": [],
   "source": [
    "X_train_reduced = best_model.transform(X_train_pca)\n",
    "X_valid_reduced = best_model.transform(X_valid_pca)\n",
    "X_test_reduced = best_model.transform(X_test_pca)\n",
    "\n",
    "clf = RandomForestClassifier(n_estimators=150, random_state=42)\n",
    "clf.fit(X_train_reduced, y_train)\n",
    "\n",
    "clf.score(X_valid_reduced, y_valid)"
   ]
  },
  {
   "cell_type": "markdown",
   "metadata": {
    "id": "jv7BKVqUZlOf"
   },
   "source": [
    "윽! 전혀 좋아지지 않았군요! 클러스터 개수를 튜닝하면 도움이 되는지 알아 보죠."
   ]
  },
  {
   "cell_type": "markdown",
   "metadata": {
    "id": "apf3KB2YZlOf"
   },
   "source": [
    "*문제: 분류기 성능을 최대로 만드는 클러스터 개수를 찾아보세요. 얼마나 성능이 나오나요?*"
   ]
  },
  {
   "cell_type": "markdown",
   "metadata": {
    "id": "F0Gr4k4aZlOg"
   },
   "source": [
    "앞에서 처럼 `GridSearchCV`를 사용할 수 있습니다. 하지만 검증 세트가 이미 있기 때문에 K-폴드 교차 검증을 할 필요가 없고 하나의 하이퍼파라미터만 탐색하기 때문에 간단히 직접 반복문을 만들겠습니다:"
   ]
  },
  {
   "cell_type": "code",
   "execution_count": null,
   "metadata": {
    "colab": {
     "base_uri": "https://localhost:8080/"
    },
    "id": "fcLyn7SaZlOg",
    "outputId": "1ba5ff05-ba79-4882-8f25-39a5cb7e3b46"
   },
   "outputs": [],
   "source": [
    "from sklearn.pipeline import make_pipeline\n",
    "\n",
    "for n_clusters in k_range:\n",
    "    pipeline = make_pipeline(\n",
    "        KMeans(n_clusters=n_clusters, n_init=10, random_state=42),\n",
    "        RandomForestClassifier(n_estimators=150, random_state=42)\n",
    "    )\n",
    "    pipeline.fit(X_train_pca, y_train)\n",
    "    print(n_clusters, pipeline.score(X_valid_pca, y_valid))"
   ]
  },
  {
   "cell_type": "markdown",
   "metadata": {
    "id": "UH8yWxa4ZlOg"
   },
   "source": [
    "클러스터 개수를 튜닝해도 80% 정확도를 넘지 못하는군요. 클러스터 센트로이드까지 거리는 원본 이미지만큼 유용하지 않은 것 같습니다."
   ]
  },
  {
   "cell_type": "markdown",
   "metadata": {
    "id": "wEVabpZCZlOg"
   },
   "source": [
    "*문제: 축소된 세트에서 추출한 특성을 원본 특성에 추가하면 어떤가요? (여기에서도 최선의 클러스터 개수를 찾아보세요.)*"
   ]
  },
  {
   "cell_type": "code",
   "execution_count": 136,
   "metadata": {
    "id": "j_vOYWL6ZlOg"
   },
   "outputs": [],
   "source": [
    "X_train_extended = np.c_[X_train_pca, X_train_reduced]\n",
    "X_valid_extended = np.c_[X_valid_pca, X_valid_reduced]\n",
    "X_test_extended = np.c_[X_test_pca, X_test_reduced]"
   ]
  },
  {
   "cell_type": "code",
   "execution_count": null,
   "metadata": {
    "colab": {
     "base_uri": "https://localhost:8080/"
    },
    "id": "iHIZddy7ZlOg",
    "outputId": "4e2a3943-873b-4fa2-e267-c1738f91e519"
   },
   "outputs": [],
   "source": [
    "clf = RandomForestClassifier(n_estimators=150, random_state=42)\n",
    "clf.fit(X_train_extended, y_train)\n",
    "clf.score(X_valid_extended, y_valid)"
   ]
  },
  {
   "cell_type": "markdown",
   "metadata": {
    "id": "vr507Sa9ZlOg"
   },
   "source": [
    "조금 나아졌네요. 하지만 클러스터 특성이 없는 것이 차라리 낫습니다. 이 경우 클러스터는 분류기를 직접 훈련하는데 도움이 되지 않습니다(하지만 새로운 훈련 샘플을 레이블링하는데는 여전히 도움이 될 수 있습니다)."
   ]
  },
  {
   "cell_type": "markdown",
   "metadata": {
    "id": "ZHFOC67CZlOg"
   },
   "source": [
    "## 12. 올리베티 얼굴 데이터셋을 위한 가우시안 혼합 모델"
   ]
  },
  {
   "cell_type": "markdown",
   "metadata": {
    "id": "2n_WiATJZlOg"
   },
   "source": [
    "*문제: 올리베티 얼굴 데이터셋에서 가우시안 혼합 모델을 훈련해보세요. 알고리즘의 속도를 높이기 위해 데이터셋의 차원을 감소시켜야 할 것입니다(예를 들면 분산의 99%를 유지하면서 PCA를 사용합니다).*"
   ]
  },
  {
   "cell_type": "code",
   "execution_count": 138,
   "metadata": {
    "id": "bFYnwl1HZlOg"
   },
   "outputs": [],
   "source": [
    "from sklearn.mixture import GaussianMixture\n",
    "\n",
    "gm = GaussianMixture(n_components=40, random_state=42)\n",
    "y_pred = gm.fit_predict(X_train_pca)"
   ]
  },
  {
   "cell_type": "markdown",
   "metadata": {
    "id": "HuY5rp7vZlOh"
   },
   "source": [
    "*문제: 이 모델을 사용해 (`sample()` 메서드로) 새로운 얼굴을 생성하고 시각화해보세요(PCA를 사용했다면 `inverse_transform()` 메서드를 사용해야 합니다).*"
   ]
  },
  {
   "cell_type": "code",
   "execution_count": 139,
   "metadata": {
    "id": "fHAHAZaLZlOh"
   },
   "outputs": [],
   "source": [
    "n_gen_faces = 20\n",
    "gen_faces_reduced, y_gen_faces = gm.sample(n_samples=n_gen_faces)\n",
    "gen_faces = pca.inverse_transform(gen_faces_reduced)"
   ]
  },
  {
   "cell_type": "code",
   "execution_count": null,
   "metadata": {
    "colab": {
     "base_uri": "https://localhost:8080/",
     "height": 392
    },
    "id": "v0HlwLnfZlOh",
    "outputId": "55511ab9-5fc4-4c1e-b05b-73998a526dfd"
   },
   "outputs": [],
   "source": [
    "plot_faces(gen_faces, y_gen_faces)"
   ]
  },
  {
   "cell_type": "markdown",
   "metadata": {
    "id": "M8xIp7cwZlOh"
   },
   "source": [
    "*문제: 일부 이미지를 수정해보세요(예를 들면 회전, 뒤집기, 어둡게 하기). 모델이 이상치를 감지하는지 확인해보세요(즉 정상 샘플과 이상치에 대해 `score_samples()` 메서드 출력을 비교해보세요).*"
   ]
  },
  {
   "cell_type": "code",
   "execution_count": null,
   "metadata": {
    "colab": {
     "base_uri": "https://localhost:8080/",
     "height": 219
    },
    "id": "fPSGEz2jZlOh",
    "outputId": "d744af05-5235-4090-b590-b01820fc3678"
   },
   "outputs": [],
   "source": [
    "n_rotated = 4\n",
    "rotated = np.transpose(X_train[:n_rotated].reshape(-1, 64, 64), axes=[0, 2, 1])\n",
    "rotated = rotated.reshape(-1, 64*64)\n",
    "y_rotated = y_train[:n_rotated]\n",
    "\n",
    "n_flipped = 3\n",
    "flipped = X_train[:n_flipped].reshape(-1, 64, 64)[:, ::-1]\n",
    "flipped = flipped.reshape(-1, 64*64)\n",
    "y_flipped = y_train[:n_flipped]\n",
    "\n",
    "n_darkened = 3\n",
    "darkened = X_train[:n_darkened].copy()\n",
    "darkened[:, 1:-1] *= 0.3\n",
    "y_darkened = y_train[:n_darkened]\n",
    "\n",
    "X_bad_faces = np.r_[rotated, flipped, darkened]\n",
    "y_bad = np.concatenate([y_rotated, y_flipped, y_darkened])\n",
    "\n",
    "plot_faces(X_bad_faces, y_bad)"
   ]
  },
  {
   "cell_type": "code",
   "execution_count": 142,
   "metadata": {
    "id": "JQgosWI9ZlOh"
   },
   "outputs": [],
   "source": [
    "X_bad_faces_pca = pca.transform(X_bad_faces)"
   ]
  },
  {
   "cell_type": "code",
   "execution_count": null,
   "metadata": {
    "colab": {
     "base_uri": "https://localhost:8080/"
    },
    "id": "zXe2lTU0ZlOh",
    "outputId": "462ec5d9-3a72-49fe-bf19-d1f182d2d706"
   },
   "outputs": [],
   "source": [
    "gm.score_samples(X_bad_faces_pca)"
   ]
  },
  {
   "cell_type": "markdown",
   "metadata": {
    "id": "hozeOxULZlOh"
   },
   "source": [
    "잘못된 사진은 이 가우시안 혼합 모델에서 등장할 가능성이 매우 낮습니다. 다른 훈련 샘플의 점수와 비교해 보세요:"
   ]
  },
  {
   "cell_type": "code",
   "execution_count": null,
   "metadata": {
    "colab": {
     "base_uri": "https://localhost:8080/"
    },
    "id": "QcisQpj2ZlOi",
    "outputId": "af57a3e6-c8ee-49bf-f1a8-756e874b8442"
   },
   "outputs": [],
   "source": [
    "gm.score_samples(X_train_pca[:10])"
   ]
  },
  {
   "cell_type": "markdown",
   "metadata": {
    "id": "uo0ug-KcZlOi"
   },
   "source": [
    "## 13. 차원 축소 기법을 사용해 이상치 탐지하기"
   ]
  },
  {
   "cell_type": "markdown",
   "metadata": {
    "id": "jdfTfHv5ZlOi"
   },
   "source": [
    "*문제: 일부 차원 축소 기법은 이상치 탐지를 위해서 사용할 수도 있습니다. 예를 들어 올리베티 얼굴 데이터셋을 PCA를 사용해 분산의 99% 유지하도록 축소해보세요. 그다음 각 이미지의 재구성 오차를 계산합니다. 그다음 이전 연습문제에서 만든 수정된 이미지를 선택해 재구성 오차를 확인해보세요. 재구성 오차가 얼마나 커지는지 확인하세요. 재구성 이미지를 출력해보면 이유를 알 수 있습니다. 정상 얼굴을 재구성하기 때문입니다.*"
   ]
  },
  {
   "cell_type": "markdown",
   "metadata": {
    "id": "SPvH5fi0ZlOi"
   },
   "source": [
    "이미 PCA를 사용해 축소된 데이터셋을 가지고 있습니다:"
   ]
  },
  {
   "cell_type": "code",
   "execution_count": null,
   "metadata": {
    "colab": {
     "base_uri": "https://localhost:8080/"
    },
    "id": "MuVBc1-OZlOi",
    "outputId": "224b9fc2-8d0a-45a7-e334-7c32afe412ae"
   },
   "outputs": [],
   "source": [
    "X_train_pca.round(2)"
   ]
  },
  {
   "cell_type": "code",
   "execution_count": 146,
   "metadata": {
    "id": "txxWYU6_ZlOi"
   },
   "outputs": [],
   "source": [
    "def reconstruction_errors(pca, X):\n",
    "    X_pca = pca.transform(X)\n",
    "    X_reconstructed = pca.inverse_transform(X_pca)\n",
    "    mse = np.square(X_reconstructed - X).mean(axis=-1)\n",
    "    return mse"
   ]
  },
  {
   "cell_type": "code",
   "execution_count": null,
   "metadata": {
    "colab": {
     "base_uri": "https://localhost:8080/"
    },
    "id": "ScAuiuPPZlOi",
    "outputId": "02e6d99a-b6ea-4af6-9036-1c8fa59ca515"
   },
   "outputs": [],
   "source": [
    "reconstruction_errors(pca, X_train).mean()"
   ]
  },
  {
   "cell_type": "code",
   "execution_count": null,
   "metadata": {
    "colab": {
     "base_uri": "https://localhost:8080/"
    },
    "id": "Z5NFublgZlOi",
    "outputId": "5a0553d9-44dd-4c80-d835-c647dc97f3fd"
   },
   "outputs": [],
   "source": [
    "reconstruction_errors(pca, X_bad_faces).mean()"
   ]
  },
  {
   "cell_type": "code",
   "execution_count": null,
   "metadata": {
    "colab": {
     "base_uri": "https://localhost:8080/",
     "height": 219
    },
    "id": "3QlWuuRqZlOj",
    "outputId": "0451a8e3-d930-4175-9652-7ecc30367a11"
   },
   "outputs": [],
   "source": [
    "plot_faces(X_bad_faces, y_bad)"
   ]
  },
  {
   "cell_type": "code",
   "execution_count": null,
   "metadata": {
    "colab": {
     "base_uri": "https://localhost:8080/",
     "height": 219
    },
    "id": "I1AyhjR_ZlOj",
    "outputId": "c2b456c9-77a5-42b6-ca39-15a4ea18948f"
   },
   "outputs": [],
   "source": [
    "X_bad_faces_reconstructed = pca.inverse_transform(X_bad_faces_pca)\n",
    "plot_faces(X_bad_faces_reconstructed, y_bad)"
   ]
  }
 ],
 "metadata": {
  "colab": {
   "provenance": []
  },
  "kernelspec": {
   "display_name": "Python 3",
   "language": "python",
   "name": "python3"
  },
  "language_info": {
   "codemirror_mode": {
    "name": "ipython",
    "version": 3
   },
   "file_extension": ".py",
   "mimetype": "text/x-python",
   "name": "python",
   "nbconvert_exporter": "python",
   "pygments_lexer": "ipython3",
   "version": "3.12.1"
  }
 },
 "nbformat": 4,
 "nbformat_minor": 0
}
